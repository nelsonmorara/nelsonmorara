{
  "nbformat": 4,
  "nbformat_minor": 0,
  "metadata": {
    "accelerator": "TPU",
    "colab": {
      "name": "Employee_Retention_Project_ End_to_End_EDA_Plus_Auto_ML Predictive Analysis.ipynb",
      "provenance": [],
      "collapsed_sections": [],
      "include_colab_link": true
    },
    "kernelspec": {
      "display_name": "Python 3.6",
      "language": "python",
      "name": "python36"
    },
    "language_info": {
      "codemirror_mode": {
        "name": "ipython",
        "version": 3
      },
      "file_extension": ".py",
      "mimetype": "text/x-python",
      "name": "python",
      "nbconvert_exporter": "python",
      "pygments_lexer": "ipython3",
      "version": "3.6.6"
    },
    "widgets": {
      "application/vnd.jupyter.widget-state+json": {
        "a10629a97f7d47108a4f89951b57fc60": {
          "model_module": "@jupyter-widgets/controls",
          "model_name": "IntProgressModel",
          "state": {
            "_view_name": "ProgressView",
            "style": "IPY_MODEL_d209c7d15daa472bb875cdba565ccfce",
            "_dom_classes": [],
            "description": "Processing: ",
            "_model_name": "IntProgressModel",
            "bar_style": "",
            "max": 69,
            "_view_module": "@jupyter-widgets/controls",
            "_model_module_version": "1.5.0",
            "value": 69,
            "_view_count": null,
            "_view_module_version": "1.5.0",
            "orientation": "horizontal",
            "min": 0,
            "description_tooltip": null,
            "_model_module": "@jupyter-widgets/controls",
            "layout": "IPY_MODEL_5059d4ac2bcb4c7e9dde505acac2689d"
          }
        },
        "d209c7d15daa472bb875cdba565ccfce": {
          "model_module": "@jupyter-widgets/controls",
          "model_name": "ProgressStyleModel",
          "state": {
            "_view_name": "StyleView",
            "_model_name": "ProgressStyleModel",
            "description_width": "",
            "_view_module": "@jupyter-widgets/base",
            "_model_module_version": "1.5.0",
            "_view_count": null,
            "_view_module_version": "1.2.0",
            "bar_color": null,
            "_model_module": "@jupyter-widgets/controls"
          }
        },
        "5059d4ac2bcb4c7e9dde505acac2689d": {
          "model_module": "@jupyter-widgets/base",
          "model_name": "LayoutModel",
          "state": {
            "_view_name": "LayoutView",
            "grid_template_rows": null,
            "right": null,
            "justify_content": null,
            "_view_module": "@jupyter-widgets/base",
            "overflow": null,
            "_model_module_version": "1.2.0",
            "_view_count": null,
            "flex_flow": null,
            "width": null,
            "min_width": null,
            "border": null,
            "align_items": null,
            "bottom": null,
            "_model_module": "@jupyter-widgets/base",
            "top": null,
            "grid_column": null,
            "overflow_y": null,
            "overflow_x": null,
            "grid_auto_flow": null,
            "grid_area": null,
            "grid_template_columns": null,
            "flex": null,
            "_model_name": "LayoutModel",
            "justify_items": null,
            "grid_row": null,
            "max_height": null,
            "align_content": null,
            "visibility": null,
            "align_self": null,
            "height": null,
            "min_height": null,
            "padding": null,
            "grid_auto_rows": null,
            "grid_gap": null,
            "max_width": null,
            "order": null,
            "_view_module_version": "1.2.0",
            "grid_template_areas": null,
            "object_position": null,
            "object_fit": null,
            "grid_auto_columns": null,
            "margin": null,
            "display": null,
            "left": null
          }
        },
        "185489140fca488da8ff95c68ffe5bac": {
          "model_module": "@jupyter-widgets/controls",
          "model_name": "IntProgressModel",
          "state": {
            "_view_name": "ProgressView",
            "style": "IPY_MODEL_322f8cd6164b4922984e7afbdc7c60fb",
            "_dom_classes": [],
            "description": "Processing: ",
            "_model_name": "IntProgressModel",
            "bar_style": "",
            "max": 4,
            "_view_module": "@jupyter-widgets/controls",
            "_model_module_version": "1.5.0",
            "value": 4,
            "_view_count": null,
            "_view_module_version": "1.5.0",
            "orientation": "horizontal",
            "min": 0,
            "description_tooltip": null,
            "_model_module": "@jupyter-widgets/controls",
            "layout": "IPY_MODEL_12dc230645ad448cb491ba48b7674b0e"
          }
        },
        "322f8cd6164b4922984e7afbdc7c60fb": {
          "model_module": "@jupyter-widgets/controls",
          "model_name": "ProgressStyleModel",
          "state": {
            "_view_name": "StyleView",
            "_model_name": "ProgressStyleModel",
            "description_width": "",
            "_view_module": "@jupyter-widgets/base",
            "_model_module_version": "1.5.0",
            "_view_count": null,
            "_view_module_version": "1.2.0",
            "bar_color": null,
            "_model_module": "@jupyter-widgets/controls"
          }
        },
        "12dc230645ad448cb491ba48b7674b0e": {
          "model_module": "@jupyter-widgets/base",
          "model_name": "LayoutModel",
          "state": {
            "_view_name": "LayoutView",
            "grid_template_rows": null,
            "right": null,
            "justify_content": null,
            "_view_module": "@jupyter-widgets/base",
            "overflow": null,
            "_model_module_version": "1.2.0",
            "_view_count": null,
            "flex_flow": null,
            "width": null,
            "min_width": null,
            "border": null,
            "align_items": null,
            "bottom": null,
            "_model_module": "@jupyter-widgets/base",
            "top": null,
            "grid_column": null,
            "overflow_y": null,
            "overflow_x": null,
            "grid_auto_flow": null,
            "grid_area": null,
            "grid_template_columns": null,
            "flex": null,
            "_model_name": "LayoutModel",
            "justify_items": null,
            "grid_row": null,
            "max_height": null,
            "align_content": null,
            "visibility": null,
            "align_self": null,
            "height": null,
            "min_height": null,
            "padding": null,
            "grid_auto_rows": null,
            "grid_gap": null,
            "max_width": null,
            "order": null,
            "_view_module_version": "1.2.0",
            "grid_template_areas": null,
            "object_position": null,
            "object_fit": null,
            "grid_auto_columns": null,
            "margin": null,
            "display": null,
            "left": null
          }
        }
      }
    }
  },
  "cells": [
    {
      "cell_type": "markdown",
      "metadata": {
        "id": "view-in-github",
        "colab_type": "text"
      },
      "source": [
        "<a href=\"https://colab.research.google.com/github/nelsonmorara/nelsonmorara/blob/main/Employee_Retention_Project__End_to_End_EDA_Plus_Auto_ML_Predictive_Analysis.ipynb\" target=\"_parent\"><img src=\"https://colab.research.google.com/assets/colab-badge.svg\" alt=\"Open In Colab\"/></a>"
      ]
    },
    {
      "cell_type": "code",
      "metadata": {
        "id": "0S8skcHFY1fh"
      },
      "source": [
        "# NumPy for numerical computing\n",
        "import numpy as np"
      ],
      "execution_count": 13,
      "outputs": []
    },
    {
      "cell_type": "code",
      "metadata": {
        "id": "thsV6G3W6kQs"
      },
      "source": [
        "# Pandas for DataFrames\n",
        "import pandas as pd"
      ],
      "execution_count": 14,
      "outputs": []
    },
    {
      "cell_type": "code",
      "metadata": {
        "id": "jnqiVXnKNcyC"
      },
      "source": [
        "# Assigning the dataset to a variable\n",
        "df = pd.read_csv('/content/employee_data.csv')"
      ],
      "execution_count": 16,
      "outputs": []
    },
    {
      "cell_type": "code",
      "metadata": {
        "id": "GpDUASfs2ILF"
      },
      "source": [
        "# Displaying contents of a dataset\n",
        "df"
      ],
      "execution_count": null,
      "outputs": []
    },
    {
      "cell_type": "code",
      "metadata": {
        "id": "FSnNPf60Y1f1"
      },
      "source": [
        "# Prints first 5 rows of the DataFrame\n",
        "df.head(10)"
      ],
      "execution_count": null,
      "outputs": []
    },
    {
      "cell_type": "code",
      "metadata": {
        "id": "HpFjunozY1f9"
      },
      "source": [
        "# Prints last 5 rows of the DataFrame\n",
        "df.tail(5) "
      ],
      "execution_count": null,
      "outputs": []
    },
    {
      "cell_type": "code",
      "metadata": {
        "id": "Qg8-IZ5DY1gC"
      },
      "source": [
        "# Summary statistics for numerical columns\n",
        "df.describe() "
      ],
      "execution_count": null,
      "outputs": []
    },
    {
      "cell_type": "code",
      "metadata": {
        "id": "fHlrD-IkY1gH"
      },
      "source": [
        "# Data Structure of the data set\n",
        "df.dtypes"
      ],
      "execution_count": null,
      "outputs": []
    },
    {
      "cell_type": "code",
      "metadata": {
        "id": "7IkdjKoLPQar"
      },
      "source": [
        "# Installing Pandas Profiler for automated detailed Exploratory Data Analysis - Google colabs is preferred\n",
        "!pip install pandas-profiling --upgrade"
      ],
      "execution_count": null,
      "outputs": []
    },
    {
      "cell_type": "code",
      "metadata": {
        "id": "hdGErg6JPXDk"
      },
      "source": [
        "# Generating detailed Exploratory Data Analysis report using Pandas Profiling (will take time) - Works only on Google colabs\n",
        "from pandas_profiling import ProfileReport\n",
        "\n",
        "# Generating the Profile report using Profile Report function\n",
        "df_eda_report = ProfileReport(df, minimal=True)\n",
        "\n",
        "# Converting the profile report to a html file\n",
        "df_eda_report.to_file(\"df_eda_report.html\")"
      ],
      "execution_count": null,
      "outputs": []
    },
    {
      "cell_type": "code",
      "metadata": {
        "id": "5uighMheQSP3"
      },
      "source": [
        "# Exploratory Data Analysis using latest AI based AutoEDA Package - sweetviz\n",
        "!pip install sweetviz"
      ],
      "execution_count": null,
      "outputs": []
    },
    {
      "cell_type": "code",
      "metadata": {
        "id": "ARNYfPNrQ_7U"
      },
      "source": [
        "# Importing the package for use\n",
        "import sweetviz as sv"
      ],
      "execution_count": null,
      "outputs": []
    },
    {
      "cell_type": "code",
      "metadata": {
        "id": "uXb-g-ZdkPrZ"
      },
      "source": [
        "# Generate the EDA report\n",
        "my_report = sv.analyze(df)\n",
        "\n",
        "# Convert the report to HTML \n",
        "my_report.show_html(\"df_eda_report.html\") # Default arguments will generate to \"SWEETVIZ_REPORT.html\"\n",
        "\n",
        "# Downloading the EDA report to local machine\n",
        "from google.colab import files\n",
        "files.download(\"df_eda_report.html\")"
      ],
      "execution_count": null,
      "outputs": []
    },
    {
      "cell_type": "code",
      "metadata": {
        "id": "YaegHm1DMCHN"
      },
      "source": [
        "# Qualitiative Cleaning\n",
        "# Selecting only valid variables ignoring noise variables\n",
        "cols = ['tenure', 'satisfaction', 'last_evaluation', 'department', 'status', 'salary', \n",
        "        'n_projects', 'avg_monthly_hrs']\n",
        " "
      ],
      "execution_count": null,
      "outputs": []
    },
    {
      "cell_type": "code",
      "metadata": {
        "id": "BbWVlyYcMNhz"
      },
      "source": [
        "# Setting the dataframe to contain only valid columns\n",
        "df1 = df[cols]\n",
        "df1.columns"
      ],
      "execution_count": null,
      "outputs": []
    },
    {
      "cell_type": "code",
      "metadata": {
        "id": "LSzwyuvOKDAe"
      },
      "source": [
        "# Quantitative Cleaning\n",
        "df1.isnull().sum()"
      ],
      "execution_count": null,
      "outputs": []
    },
    {
      "cell_type": "code",
      "metadata": {
        "id": "PgvGTk24J96k"
      },
      "source": [
        "# Checking if the operation cleaned the null values\n",
        "df1.isnull().sum()"
      ],
      "execution_count": null,
      "outputs": []
    },
    {
      "cell_type": "code",
      "metadata": {
        "id": "ejlcULcUl-lk"
      },
      "source": [
        "# To replace specific columns with Mode\n",
        "for column in ['tenure', 'department', 'last_evaluation', 'satisfaction']:\n",
        "    df1[column].fillna(df1[column].mode()[0], inplace=True)"
      ],
      "execution_count": null,
      "outputs": []
    },
    {
      "cell_type": "code",
      "metadata": {
        "id": "qWVvgk5vmC9t"
      },
      "source": [
        "# Display number of missing values by feature after all quantitative and qualititatve cleaning\n",
        "df1.isnull().sum()"
      ],
      "execution_count": null,
      "outputs": []
    },
    {
      "cell_type": "code",
      "metadata": {
        "id": "7992Nli5N1mv"
      },
      "source": [
        "# method 2 - Doing Auto ML with PyCaret\n",
        "!pip install pycaret --upgrade"
      ],
      "execution_count": null,
      "outputs": []
    },
    {
      "cell_type": "code",
      "metadata": {
        "id": "NbrJbSJ3OuMs"
      },
      "source": [
        "#To import all Classification related Pycaret libraries\n",
        "from pycaret.classification import *"
      ],
      "execution_count": null,
      "outputs": []
    },
    {
      "cell_type": "code",
      "metadata": {
        "id": "AXCcwqhSOxkX"
      },
      "source": [
        "# Setting up the classification ML experiment\n",
        "classification_model_setup = setup(df,  target = 'status')\n",
        "                               "
      ],
      "execution_count": null,
      "outputs": []
    },
    {
      "cell_type": "code",
      "metadata": {
        "id": "JTCJqf4PShSu",
        "colab": {
          "base_uri": "https://localhost:8080/",
          "height": 588,
          "referenced_widgets": [
            "a10629a97f7d47108a4f89951b57fc60",
            "d209c7d15daa472bb875cdba565ccfce",
            "5059d4ac2bcb4c7e9dde505acac2689d"
          ]
        },
        "outputId": "6e631932-d400-460a-e10a-0a2ae8228b56"
      },
      "source": [
        "# Running the multiple algorithms\n",
        "compare_models()"
      ],
      "execution_count": 19,
      "outputs": [
        {
          "output_type": "display_data",
          "data": {
            "text/html": [
              "<div>\n",
              "<style scoped>\n",
              "    .dataframe tbody tr th:only-of-type {\n",
              "        vertical-align: middle;\n",
              "    }\n",
              "\n",
              "    .dataframe tbody tr th {\n",
              "        vertical-align: top;\n",
              "    }\n",
              "\n",
              "    .dataframe thead th {\n",
              "        text-align: right;\n",
              "    }\n",
              "</style>\n",
              "<table border=\"1\" class=\"dataframe\">\n",
              "  <thead>\n",
              "    <tr style=\"text-align: right;\">\n",
              "      <th></th>\n",
              "      <th>Model</th>\n",
              "      <th>Accuracy</th>\n",
              "      <th>AUC</th>\n",
              "      <th>Recall</th>\n",
              "      <th>Prec.</th>\n",
              "      <th>F1</th>\n",
              "      <th>Kappa</th>\n",
              "      <th>MCC</th>\n",
              "      <th>TT (Sec)</th>\n",
              "    </tr>\n",
              "  </thead>\n",
              "  <tbody>\n",
              "    <tr>\n",
              "      <th>rf</th>\n",
              "      <td>Random Forest Classifier</td>\n",
              "      <td>0.9762</td>\n",
              "      <td>0.9885</td>\n",
              "      <td>0.9270</td>\n",
              "      <td>0.9725</td>\n",
              "      <td>0.9491</td>\n",
              "      <td>0.9336</td>\n",
              "      <td>0.9342</td>\n",
              "      <td>1.025</td>\n",
              "    </tr>\n",
              "    <tr>\n",
              "      <th>lightgbm</th>\n",
              "      <td>Light Gradient Boosting Machine</td>\n",
              "      <td>0.9753</td>\n",
              "      <td>0.9892</td>\n",
              "      <td>0.9270</td>\n",
              "      <td>0.9687</td>\n",
              "      <td>0.9473</td>\n",
              "      <td>0.9312</td>\n",
              "      <td>0.9317</td>\n",
              "      <td>0.211</td>\n",
              "    </tr>\n",
              "    <tr>\n",
              "      <th>et</th>\n",
              "      <td>Extra Trees Classifier</td>\n",
              "      <td>0.9714</td>\n",
              "      <td>0.9865</td>\n",
              "      <td>0.9375</td>\n",
              "      <td>0.9429</td>\n",
              "      <td>0.9400</td>\n",
              "      <td>0.9213</td>\n",
              "      <td>0.9214</td>\n",
              "      <td>0.883</td>\n",
              "    </tr>\n",
              "    <tr>\n",
              "      <th>gbc</th>\n",
              "      <td>Gradient Boosting Classifier</td>\n",
              "      <td>0.9680</td>\n",
              "      <td>0.9817</td>\n",
              "      <td>0.9115</td>\n",
              "      <td>0.9529</td>\n",
              "      <td>0.9316</td>\n",
              "      <td>0.9107</td>\n",
              "      <td>0.9112</td>\n",
              "      <td>1.161</td>\n",
              "    </tr>\n",
              "    <tr>\n",
              "      <th>dt</th>\n",
              "      <td>Decision Tree Classifier</td>\n",
              "      <td>0.9599</td>\n",
              "      <td>0.9490</td>\n",
              "      <td>0.9275</td>\n",
              "      <td>0.9074</td>\n",
              "      <td>0.9171</td>\n",
              "      <td>0.8906</td>\n",
              "      <td>0.8910</td>\n",
              "      <td>0.072</td>\n",
              "    </tr>\n",
              "    <tr>\n",
              "      <th>knn</th>\n",
              "      <td>K Neighbors Classifier</td>\n",
              "      <td>0.9308</td>\n",
              "      <td>0.9648</td>\n",
              "      <td>0.8897</td>\n",
              "      <td>0.8331</td>\n",
              "      <td>0.8602</td>\n",
              "      <td>0.8143</td>\n",
              "      <td>0.8153</td>\n",
              "      <td>0.169</td>\n",
              "    </tr>\n",
              "    <tr>\n",
              "      <th>ada</th>\n",
              "      <td>Ada Boost Classifier</td>\n",
              "      <td>0.9266</td>\n",
              "      <td>0.9648</td>\n",
              "      <td>0.8323</td>\n",
              "      <td>0.8571</td>\n",
              "      <td>0.8442</td>\n",
              "      <td>0.7963</td>\n",
              "      <td>0.7966</td>\n",
              "      <td>0.397</td>\n",
              "    </tr>\n",
              "    <tr>\n",
              "      <th>lr</th>\n",
              "      <td>Logistic Regression</td>\n",
              "      <td>0.8939</td>\n",
              "      <td>0.9341</td>\n",
              "      <td>0.7883</td>\n",
              "      <td>0.7729</td>\n",
              "      <td>0.7802</td>\n",
              "      <td>0.7103</td>\n",
              "      <td>0.7106</td>\n",
              "      <td>0.908</td>\n",
              "    </tr>\n",
              "    <tr>\n",
              "      <th>lda</th>\n",
              "      <td>Linear Discriminant Analysis</td>\n",
              "      <td>0.8753</td>\n",
              "      <td>0.9252</td>\n",
              "      <td>0.8101</td>\n",
              "      <td>0.7096</td>\n",
              "      <td>0.7562</td>\n",
              "      <td>0.6729</td>\n",
              "      <td>0.6758</td>\n",
              "      <td>0.082</td>\n",
              "    </tr>\n",
              "    <tr>\n",
              "      <th>ridge</th>\n",
              "      <td>Ridge Classifier</td>\n",
              "      <td>0.8744</td>\n",
              "      <td>0.0000</td>\n",
              "      <td>0.7715</td>\n",
              "      <td>0.7221</td>\n",
              "      <td>0.7457</td>\n",
              "      <td>0.6624</td>\n",
              "      <td>0.6633</td>\n",
              "      <td>0.035</td>\n",
              "    </tr>\n",
              "    <tr>\n",
              "      <th>svm</th>\n",
              "      <td>SVM - Linear Kernel</td>\n",
              "      <td>0.8258</td>\n",
              "      <td>0.0000</td>\n",
              "      <td>0.5923</td>\n",
              "      <td>0.5486</td>\n",
              "      <td>0.5144</td>\n",
              "      <td>0.4455</td>\n",
              "      <td>0.4622</td>\n",
              "      <td>0.142</td>\n",
              "    </tr>\n",
              "    <tr>\n",
              "      <th>nb</th>\n",
              "      <td>Naive Bayes</td>\n",
              "      <td>0.7065</td>\n",
              "      <td>0.9030</td>\n",
              "      <td>0.9363</td>\n",
              "      <td>0.4462</td>\n",
              "      <td>0.6043</td>\n",
              "      <td>0.4146</td>\n",
              "      <td>0.4870</td>\n",
              "      <td>0.037</td>\n",
              "    </tr>\n",
              "    <tr>\n",
              "      <th>qda</th>\n",
              "      <td>Quadratic Discriminant Analysis</td>\n",
              "      <td>0.5047</td>\n",
              "      <td>0.5604</td>\n",
              "      <td>0.6670</td>\n",
              "      <td>0.2859</td>\n",
              "      <td>0.3928</td>\n",
              "      <td>0.0871</td>\n",
              "      <td>0.1098</td>\n",
              "      <td>0.048</td>\n",
              "    </tr>\n",
              "  </tbody>\n",
              "</table>\n",
              "</div>"
            ],
            "text/plain": [
              "                                    Model  Accuracy     AUC  Recall   Prec.  \\\n",
              "rf               Random Forest Classifier    0.9762  0.9885  0.9270  0.9725   \n",
              "lightgbm  Light Gradient Boosting Machine    0.9753  0.9892  0.9270  0.9687   \n",
              "et                 Extra Trees Classifier    0.9714  0.9865  0.9375  0.9429   \n",
              "gbc          Gradient Boosting Classifier    0.9680  0.9817  0.9115  0.9529   \n",
              "dt               Decision Tree Classifier    0.9599  0.9490  0.9275  0.9074   \n",
              "knn                K Neighbors Classifier    0.9308  0.9648  0.8897  0.8331   \n",
              "ada                  Ada Boost Classifier    0.9266  0.9648  0.8323  0.8571   \n",
              "lr                    Logistic Regression    0.8939  0.9341  0.7883  0.7729   \n",
              "lda          Linear Discriminant Analysis    0.8753  0.9252  0.8101  0.7096   \n",
              "ridge                    Ridge Classifier    0.8744  0.0000  0.7715  0.7221   \n",
              "svm                   SVM - Linear Kernel    0.8258  0.0000  0.5923  0.5486   \n",
              "nb                            Naive Bayes    0.7065  0.9030  0.9363  0.4462   \n",
              "qda       Quadratic Discriminant Analysis    0.5047  0.5604  0.6670  0.2859   \n",
              "\n",
              "              F1   Kappa     MCC  TT (Sec)  \n",
              "rf        0.9491  0.9336  0.9342     1.025  \n",
              "lightgbm  0.9473  0.9312  0.9317     0.211  \n",
              "et        0.9400  0.9213  0.9214     0.883  \n",
              "gbc       0.9316  0.9107  0.9112     1.161  \n",
              "dt        0.9171  0.8906  0.8910     0.072  \n",
              "knn       0.8602  0.8143  0.8153     0.169  \n",
              "ada       0.8442  0.7963  0.7966     0.397  \n",
              "lr        0.7802  0.7103  0.7106     0.908  \n",
              "lda       0.7562  0.6729  0.6758     0.082  \n",
              "ridge     0.7457  0.6624  0.6633     0.035  \n",
              "svm       0.5144  0.4455  0.4622     0.142  \n",
              "nb        0.6043  0.4146  0.4870     0.037  \n",
              "qda       0.3928  0.0871  0.1098     0.048  "
            ]
          },
          "metadata": {
            "tags": []
          }
        },
        {
          "output_type": "execute_result",
          "data": {
            "text/plain": [
              "RandomForestClassifier(bootstrap=True, ccp_alpha=0.0, class_weight=None,\n",
              "                       criterion='gini', max_depth=None, max_features='auto',\n",
              "                       max_leaf_nodes=None, max_samples=None,\n",
              "                       min_impurity_decrease=0.0, min_impurity_split=None,\n",
              "                       min_samples_leaf=1, min_samples_split=2,\n",
              "                       min_weight_fraction_leaf=0.0, n_estimators=100,\n",
              "                       n_jobs=-1, oob_score=False, random_state=5018, verbose=0,\n",
              "                       warm_start=False)"
            ]
          },
          "metadata": {
            "tags": []
          },
          "execution_count": 19
        }
      ]
    },
    {
      "cell_type": "code",
      "metadata": {
        "id": "EDMwirf1SmBM",
        "colab": {
          "base_uri": "https://localhost:8080/",
          "height": 421,
          "referenced_widgets": [
            "185489140fca488da8ff95c68ffe5bac",
            "322f8cd6164b4922984e7afbdc7c60fb",
            "12dc230645ad448cb491ba48b7674b0e"
          ]
        },
        "outputId": "1de49292-d750-4001-9409-4ecbc8362eb9"
      },
      "source": [
        "# Creating the model with the best algorithm based on the above results\n",
        "model = create_model('rf')"
      ],
      "execution_count": 20,
      "outputs": [
        {
          "output_type": "display_data",
          "data": {
            "text/html": [
              "<div>\n",
              "<style scoped>\n",
              "    .dataframe tbody tr th:only-of-type {\n",
              "        vertical-align: middle;\n",
              "    }\n",
              "\n",
              "    .dataframe tbody tr th {\n",
              "        vertical-align: top;\n",
              "    }\n",
              "\n",
              "    .dataframe thead th {\n",
              "        text-align: right;\n",
              "    }\n",
              "</style>\n",
              "<table border=\"1\" class=\"dataframe\">\n",
              "  <thead>\n",
              "    <tr style=\"text-align: right;\">\n",
              "      <th></th>\n",
              "      <th>Accuracy</th>\n",
              "      <th>AUC</th>\n",
              "      <th>Recall</th>\n",
              "      <th>Prec.</th>\n",
              "      <th>F1</th>\n",
              "      <th>Kappa</th>\n",
              "      <th>MCC</th>\n",
              "    </tr>\n",
              "  </thead>\n",
              "  <tbody>\n",
              "    <tr>\n",
              "      <th>0</th>\n",
              "      <td>0.9729</td>\n",
              "      <td>0.9845</td>\n",
              "      <td>0.9121</td>\n",
              "      <td>0.9732</td>\n",
              "      <td>0.9417</td>\n",
              "      <td>0.9241</td>\n",
              "      <td>0.9249</td>\n",
              "    </tr>\n",
              "    <tr>\n",
              "      <th>1</th>\n",
              "      <td>0.9810</td>\n",
              "      <td>0.9956</td>\n",
              "      <td>0.9372</td>\n",
              "      <td>0.9825</td>\n",
              "      <td>0.9593</td>\n",
              "      <td>0.9469</td>\n",
              "      <td>0.9473</td>\n",
              "    </tr>\n",
              "    <tr>\n",
              "      <th>2</th>\n",
              "      <td>0.9830</td>\n",
              "      <td>0.9878</td>\n",
              "      <td>0.9498</td>\n",
              "      <td>0.9784</td>\n",
              "      <td>0.9639</td>\n",
              "      <td>0.9528</td>\n",
              "      <td>0.9529</td>\n",
              "    </tr>\n",
              "    <tr>\n",
              "      <th>3</th>\n",
              "      <td>0.9709</td>\n",
              "      <td>0.9829</td>\n",
              "      <td>0.9121</td>\n",
              "      <td>0.9646</td>\n",
              "      <td>0.9376</td>\n",
              "      <td>0.9187</td>\n",
              "      <td>0.9193</td>\n",
              "    </tr>\n",
              "    <tr>\n",
              "      <th>4</th>\n",
              "      <td>0.9689</td>\n",
              "      <td>0.9835</td>\n",
              "      <td>0.8950</td>\n",
              "      <td>0.9726</td>\n",
              "      <td>0.9322</td>\n",
              "      <td>0.9120</td>\n",
              "      <td>0.9134</td>\n",
              "    </tr>\n",
              "    <tr>\n",
              "      <th>5</th>\n",
              "      <td>0.9729</td>\n",
              "      <td>0.9918</td>\n",
              "      <td>0.9328</td>\n",
              "      <td>0.9528</td>\n",
              "      <td>0.9427</td>\n",
              "      <td>0.9249</td>\n",
              "      <td>0.9250</td>\n",
              "    </tr>\n",
              "    <tr>\n",
              "      <th>6</th>\n",
              "      <td>0.9809</td>\n",
              "      <td>0.9941</td>\n",
              "      <td>0.9580</td>\n",
              "      <td>0.9620</td>\n",
              "      <td>0.9600</td>\n",
              "      <td>0.9475</td>\n",
              "      <td>0.9475</td>\n",
              "    </tr>\n",
              "    <tr>\n",
              "      <th>7</th>\n",
              "      <td>0.9779</td>\n",
              "      <td>0.9838</td>\n",
              "      <td>0.9118</td>\n",
              "      <td>0.9954</td>\n",
              "      <td>0.9518</td>\n",
              "      <td>0.9375</td>\n",
              "      <td>0.9390</td>\n",
              "    </tr>\n",
              "    <tr>\n",
              "      <th>8</th>\n",
              "      <td>0.9779</td>\n",
              "      <td>0.9890</td>\n",
              "      <td>0.9328</td>\n",
              "      <td>0.9737</td>\n",
              "      <td>0.9528</td>\n",
              "      <td>0.9384</td>\n",
              "      <td>0.9388</td>\n",
              "    </tr>\n",
              "    <tr>\n",
              "      <th>9</th>\n",
              "      <td>0.9759</td>\n",
              "      <td>0.9919</td>\n",
              "      <td>0.9289</td>\n",
              "      <td>0.9694</td>\n",
              "      <td>0.9487</td>\n",
              "      <td>0.9330</td>\n",
              "      <td>0.9334</td>\n",
              "    </tr>\n",
              "    <tr>\n",
              "      <th>Mean</th>\n",
              "      <td>0.9762</td>\n",
              "      <td>0.9885</td>\n",
              "      <td>0.9270</td>\n",
              "      <td>0.9725</td>\n",
              "      <td>0.9491</td>\n",
              "      <td>0.9336</td>\n",
              "      <td>0.9342</td>\n",
              "    </tr>\n",
              "    <tr>\n",
              "      <th>SD</th>\n",
              "      <td>0.0045</td>\n",
              "      <td>0.0045</td>\n",
              "      <td>0.0183</td>\n",
              "      <td>0.0111</td>\n",
              "      <td>0.0099</td>\n",
              "      <td>0.0128</td>\n",
              "      <td>0.0125</td>\n",
              "    </tr>\n",
              "  </tbody>\n",
              "</table>\n",
              "</div>"
            ],
            "text/plain": [
              "      Accuracy     AUC  Recall   Prec.      F1   Kappa     MCC\n",
              "0       0.9729  0.9845  0.9121  0.9732  0.9417  0.9241  0.9249\n",
              "1       0.9810  0.9956  0.9372  0.9825  0.9593  0.9469  0.9473\n",
              "2       0.9830  0.9878  0.9498  0.9784  0.9639  0.9528  0.9529\n",
              "3       0.9709  0.9829  0.9121  0.9646  0.9376  0.9187  0.9193\n",
              "4       0.9689  0.9835  0.8950  0.9726  0.9322  0.9120  0.9134\n",
              "5       0.9729  0.9918  0.9328  0.9528  0.9427  0.9249  0.9250\n",
              "6       0.9809  0.9941  0.9580  0.9620  0.9600  0.9475  0.9475\n",
              "7       0.9779  0.9838  0.9118  0.9954  0.9518  0.9375  0.9390\n",
              "8       0.9779  0.9890  0.9328  0.9737  0.9528  0.9384  0.9388\n",
              "9       0.9759  0.9919  0.9289  0.9694  0.9487  0.9330  0.9334\n",
              "Mean    0.9762  0.9885  0.9270  0.9725  0.9491  0.9336  0.9342\n",
              "SD      0.0045  0.0045  0.0183  0.0111  0.0099  0.0128  0.0125"
            ]
          },
          "metadata": {
            "tags": []
          }
        }
      ]
    },
    {
      "cell_type": "code",
      "metadata": {
        "id": "87iNuvQK1tOT"
      },
      "source": [
        "!pip install h2o --upgrade"
      ],
      "execution_count": null,
      "outputs": []
    },
    {
      "cell_type": "code",
      "metadata": {
        "id": "JTpHiYSg2FVB"
      },
      "source": [
        "import h2o\n",
        "from h2o.automl import H2OAutoML"
      ],
      "execution_count": 23,
      "outputs": []
    },
    {
      "cell_type": "code",
      "metadata": {
        "id": "FMqK04D72ZyR"
      },
      "source": [
        "h2o.init()"
      ],
      "execution_count": null,
      "outputs": []
    },
    {
      "cell_type": "code",
      "metadata": {
        "colab": {
          "base_uri": "https://localhost:8080/",
          "height": 267
        },
        "id": "6LJUsshs2b-f",
        "outputId": "0363a435-6a09-41eb-8da4-5822b79d13c5"
      },
      "source": [
        "df1 = pd.read_csv('/content/employee_data.csv')\n",
        "hf = h2o.H2OFrame(df1)\n",
        "hf"
      ],
      "execution_count": 25,
      "outputs": [
        {
          "output_type": "stream",
          "text": [
            "Parse progress: |█████████████████████████████████████████████████████████| 100%\n"
          ],
          "name": "stdout"
        },
        {
          "output_type": "display_data",
          "data": {
            "text/html": [
              "<table>\n",
              "<thead>\n",
              "<tr><th style=\"text-align: right;\">  avg_monthly_hrs</th><th>department  </th><th style=\"text-align: right;\">  filed_complaint</th><th style=\"text-align: right;\">  last_evaluation</th><th style=\"text-align: right;\">  n_projects</th><th style=\"text-align: right;\">  recently_promoted</th><th>salary  </th><th style=\"text-align: right;\">  satisfaction</th><th>status  </th><th style=\"text-align: right;\">  tenure</th></tr>\n",
              "</thead>\n",
              "<tbody>\n",
              "<tr><td style=\"text-align: right;\">              221</td><td>engineering </td><td style=\"text-align: right;\">              nan</td><td style=\"text-align: right;\">         0.932868</td><td style=\"text-align: right;\">           4</td><td style=\"text-align: right;\">                nan</td><td>low     </td><td style=\"text-align: right;\">      0.829896</td><td>Left    </td><td style=\"text-align: right;\">       5</td></tr>\n",
              "<tr><td style=\"text-align: right;\">              232</td><td>support     </td><td style=\"text-align: right;\">              nan</td><td style=\"text-align: right;\">       nan       </td><td style=\"text-align: right;\">           3</td><td style=\"text-align: right;\">                nan</td><td>low     </td><td style=\"text-align: right;\">      0.834544</td><td>Employed</td><td style=\"text-align: right;\">       2</td></tr>\n",
              "<tr><td style=\"text-align: right;\">              184</td><td>sales       </td><td style=\"text-align: right;\">              nan</td><td style=\"text-align: right;\">         0.78883 </td><td style=\"text-align: right;\">           3</td><td style=\"text-align: right;\">                nan</td><td>medium  </td><td style=\"text-align: right;\">      0.834988</td><td>Employed</td><td style=\"text-align: right;\">       3</td></tr>\n",
              "<tr><td style=\"text-align: right;\">              206</td><td>sales       </td><td style=\"text-align: right;\">              nan</td><td style=\"text-align: right;\">         0.575688</td><td style=\"text-align: right;\">           4</td><td style=\"text-align: right;\">                nan</td><td>low     </td><td style=\"text-align: right;\">      0.424764</td><td>Employed</td><td style=\"text-align: right;\">       2</td></tr>\n",
              "<tr><td style=\"text-align: right;\">              249</td><td>sales       </td><td style=\"text-align: right;\">              nan</td><td style=\"text-align: right;\">         0.845217</td><td style=\"text-align: right;\">           3</td><td style=\"text-align: right;\">                nan</td><td>low     </td><td style=\"text-align: right;\">      0.779043</td><td>Employed</td><td style=\"text-align: right;\">       3</td></tr>\n",
              "<tr><td style=\"text-align: right;\">              140</td><td>sales       </td><td style=\"text-align: right;\">              nan</td><td style=\"text-align: right;\">         0.589097</td><td style=\"text-align: right;\">           4</td><td style=\"text-align: right;\">                nan</td><td>medium  </td><td style=\"text-align: right;\">      0.66002 </td><td>Employed</td><td style=\"text-align: right;\">       4</td></tr>\n",
              "<tr><td style=\"text-align: right;\">              121</td><td>sales       </td><td style=\"text-align: right;\">                1</td><td style=\"text-align: right;\">         0.625399</td><td style=\"text-align: right;\">           3</td><td style=\"text-align: right;\">                nan</td><td>low     </td><td style=\"text-align: right;\">      0.835571</td><td>Employed</td><td style=\"text-align: right;\">       3</td></tr>\n",
              "<tr><td style=\"text-align: right;\">              150</td><td>engineering </td><td style=\"text-align: right;\">              nan</td><td style=\"text-align: right;\">         0.644586</td><td style=\"text-align: right;\">           4</td><td style=\"text-align: right;\">                nan</td><td>low     </td><td style=\"text-align: right;\">      0.796683</td><td>Employed</td><td style=\"text-align: right;\">       3</td></tr>\n",
              "<tr><td style=\"text-align: right;\">              215</td><td>engineering </td><td style=\"text-align: right;\">                1</td><td style=\"text-align: right;\">         0.524114</td><td style=\"text-align: right;\">           3</td><td style=\"text-align: right;\">                nan</td><td>medium  </td><td style=\"text-align: right;\">      0.715005</td><td>Employed</td><td style=\"text-align: right;\">       7</td></tr>\n",
              "<tr><td style=\"text-align: right;\">              269</td><td>support     </td><td style=\"text-align: right;\">              nan</td><td style=\"text-align: right;\">         0.909364</td><td style=\"text-align: right;\">           5</td><td style=\"text-align: right;\">                nan</td><td>medium  </td><td style=\"text-align: right;\">      0.994037</td><td>Employed</td><td style=\"text-align: right;\">       2</td></tr>\n",
              "</tbody>\n",
              "</table>"
            ]
          },
          "metadata": {
            "tags": []
          }
        },
        {
          "output_type": "execute_result",
          "data": {
            "text/plain": [
              ""
            ]
          },
          "metadata": {
            "tags": []
          },
          "execution_count": 25
        }
      ]
    },
    {
      "cell_type": "code",
      "metadata": {
        "id": "yYk-eF673QXU"
      },
      "source": [
        "splits = hf.split_frame(ratios = [0.8])\n",
        "train = splits[0]\n",
        "test = splits[1]"
      ],
      "execution_count": 26,
      "outputs": []
    },
    {
      "cell_type": "code",
      "metadata": {
        "colab": {
          "base_uri": "https://localhost:8080/"
        },
        "id": "mlAF_-vz3l_j",
        "outputId": "04cf9250-17b5-49ba-f55b-de3c8e5066c8"
      },
      "source": [
        "aml = H2OAutoML(max_runtime_secs = 30)\n",
        "aml.train(y = \"status\", training_frame = train)"
      ],
      "execution_count": 27,
      "outputs": [
        {
          "output_type": "stream",
          "text": [
            "AutoML progress: |████████████████████████████████████████████████████████| 100%\n"
          ],
          "name": "stdout"
        }
      ]
    },
    {
      "cell_type": "code",
      "metadata": {
        "colab": {
          "base_uri": "https://localhost:8080/",
          "height": 250
        },
        "id": "XNlozCxq4LBX",
        "outputId": "f5590537-fcc0-46e2-894f-838e5e689439"
      },
      "source": [
        "aml.leaderboard.head(10)"
      ],
      "execution_count": 28,
      "outputs": [
        {
          "output_type": "display_data",
          "data": {
            "text/html": [
              "<table>\n",
              "<thead>\n",
              "<tr><th>model_id                                           </th><th style=\"text-align: right;\">     auc</th><th style=\"text-align: right;\">  logloss</th><th style=\"text-align: right;\">   aucpr</th><th style=\"text-align: right;\">  mean_per_class_error</th><th style=\"text-align: right;\">    rmse</th><th style=\"text-align: right;\">      mse</th></tr>\n",
              "</thead>\n",
              "<tbody>\n",
              "<tr><td>StackedEnsemble_AllModels_AutoML_20210414_145407   </td><td style=\"text-align: right;\">0.979901</td><td style=\"text-align: right;\"> 0.120703</td><td style=\"text-align: right;\">0.961117</td><td style=\"text-align: right;\">             0.0547397</td><td style=\"text-align: right;\">0.173182</td><td style=\"text-align: right;\">0.0299919</td></tr>\n",
              "<tr><td>StackedEnsemble_BestOfFamily_AutoML_20210414_145407</td><td style=\"text-align: right;\">0.979548</td><td style=\"text-align: right;\"> 0.123096</td><td style=\"text-align: right;\">0.959678</td><td style=\"text-align: right;\">             0.0569307</td><td style=\"text-align: right;\">0.175198</td><td style=\"text-align: right;\">0.0306943</td></tr>\n",
              "<tr><td>XGBoost_2_AutoML_20210414_145407                   </td><td style=\"text-align: right;\">0.968504</td><td style=\"text-align: right;\"> 0.480897</td><td style=\"text-align: right;\">0.930199</td><td style=\"text-align: right;\">             0.0729773</td><td style=\"text-align: right;\">0.382601</td><td style=\"text-align: right;\">0.146384 </td></tr>\n",
              "<tr><td>XGBoost_1_AutoML_20210414_145407                   </td><td style=\"text-align: right;\">0.966796</td><td style=\"text-align: right;\"> 0.479642</td><td style=\"text-align: right;\">0.919293</td><td style=\"text-align: right;\">             0.0698134</td><td style=\"text-align: right;\">0.381762</td><td style=\"text-align: right;\">0.145742 </td></tr>\n",
              "<tr><td>GBM_4_AutoML_20210414_145407                       </td><td style=\"text-align: right;\">0.965014</td><td style=\"text-align: right;\"> 0.46962 </td><td style=\"text-align: right;\">0.936261</td><td style=\"text-align: right;\">             0.06753  </td><td style=\"text-align: right;\">0.388161</td><td style=\"text-align: right;\">0.150669 </td></tr>\n",
              "<tr><td>GBM_3_AutoML_20210414_145407                       </td><td style=\"text-align: right;\">0.961777</td><td style=\"text-align: right;\"> 0.470912</td><td style=\"text-align: right;\">0.926397</td><td style=\"text-align: right;\">             0.0641929</td><td style=\"text-align: right;\">0.388872</td><td style=\"text-align: right;\">0.151222 </td></tr>\n",
              "<tr><td>DeepLearning_1_AutoML_20210414_145407              </td><td style=\"text-align: right;\">0.957979</td><td style=\"text-align: right;\"> 0.215129</td><td style=\"text-align: right;\">0.901966</td><td style=\"text-align: right;\">             0.101866 </td><td style=\"text-align: right;\">0.245769</td><td style=\"text-align: right;\">0.0604025</td></tr>\n",
              "<tr><td>GBM_1_AutoML_20210414_145407                       </td><td style=\"text-align: right;\">0.957921</td><td style=\"text-align: right;\"> 0.472292</td><td style=\"text-align: right;\">0.90422 </td><td style=\"text-align: right;\">             0.0617794</td><td style=\"text-align: right;\">0.389587</td><td style=\"text-align: right;\">0.151778 </td></tr>\n",
              "<tr><td>XGBoost_3_AutoML_20210414_145407                   </td><td style=\"text-align: right;\">0.950966</td><td style=\"text-align: right;\"> 0.489292</td><td style=\"text-align: right;\">0.901998</td><td style=\"text-align: right;\">             0.0841268</td><td style=\"text-align: right;\">0.387872</td><td style=\"text-align: right;\">0.150445 </td></tr>\n",
              "<tr><td>GBM_2_AutoML_20210414_145407                       </td><td style=\"text-align: right;\">0.950085</td><td style=\"text-align: right;\"> 0.478628</td><td style=\"text-align: right;\">0.912889</td><td style=\"text-align: right;\">             0.0867102</td><td style=\"text-align: right;\">0.392792</td><td style=\"text-align: right;\">0.154286 </td></tr>\n",
              "</tbody>\n",
              "</table>"
            ]
          },
          "metadata": {
            "tags": []
          }
        },
        {
          "output_type": "execute_result",
          "data": {
            "text/plain": [
              ""
            ]
          },
          "metadata": {
            "tags": []
          },
          "execution_count": 28
        }
      ]
    },
    {
      "cell_type": "code",
      "metadata": {
        "colab": {
          "base_uri": "https://localhost:8080/",
          "height": 1000
        },
        "id": "LH1a7_Oa4dW7",
        "outputId": "3eebf87c-e146-4c1b-bee6-4163a1887cc9"
      },
      "source": [
        "perf = aml.leader.model_performance(test)\n",
        "perf"
      ],
      "execution_count": 34,
      "outputs": [
        {
          "output_type": "stream",
          "text": [
            "\n",
            "ModelMetricsBinomialGLM: stackedensemble\n",
            "** Reported on test data. **\n",
            "\n",
            "MSE: 0.0285777790334128\n",
            "RMSE: 0.16904963482188537\n",
            "LogLoss: 0.1135544733084554\n",
            "Null degrees of freedom: 2849\n",
            "Residual degrees of freedom: 2843\n",
            "Null deviance: 3134.2418660827816\n",
            "Residual deviance: 647.2604978581959\n",
            "AIC: 661.2604978581959\n",
            "AUC: 0.980381344658311\n",
            "AUCPR: 0.9679127915119032\n",
            "Gini: 0.9607626893166219\n",
            "\n",
            "Confusion Matrix (Act/Pred) for max f1 @ threshold = 0.3713557216734455: \n"
          ],
          "name": "stdout"
        },
        {
          "output_type": "display_data",
          "data": {
            "text/html": [
              "<div>\n",
              "<style scoped>\n",
              "    .dataframe tbody tr th:only-of-type {\n",
              "        vertical-align: middle;\n",
              "    }\n",
              "\n",
              "    .dataframe tbody tr th {\n",
              "        vertical-align: top;\n",
              "    }\n",
              "\n",
              "    .dataframe thead th {\n",
              "        text-align: right;\n",
              "    }\n",
              "</style>\n",
              "<table border=\"1\" class=\"dataframe\">\n",
              "  <thead>\n",
              "    <tr style=\"text-align: right;\">\n",
              "      <th></th>\n",
              "      <th></th>\n",
              "      <th>Employed</th>\n",
              "      <th>Left</th>\n",
              "      <th>Error</th>\n",
              "      <th>Rate</th>\n",
              "    </tr>\n",
              "  </thead>\n",
              "  <tbody>\n",
              "    <tr>\n",
              "      <th>0</th>\n",
              "      <td>Employed</td>\n",
              "      <td>2119.0</td>\n",
              "      <td>50.0</td>\n",
              "      <td>0.0231</td>\n",
              "      <td>(50.0/2169.0)</td>\n",
              "    </tr>\n",
              "    <tr>\n",
              "      <th>1</th>\n",
              "      <td>Left</td>\n",
              "      <td>52.0</td>\n",
              "      <td>629.0</td>\n",
              "      <td>0.0764</td>\n",
              "      <td>(52.0/681.0)</td>\n",
              "    </tr>\n",
              "    <tr>\n",
              "      <th>2</th>\n",
              "      <td>Total</td>\n",
              "      <td>2171.0</td>\n",
              "      <td>679.0</td>\n",
              "      <td>0.0358</td>\n",
              "      <td>(102.0/2850.0)</td>\n",
              "    </tr>\n",
              "  </tbody>\n",
              "</table>\n",
              "</div>"
            ],
            "text/plain": [
              "             Employed   Left   Error             Rate\n",
              "0  Employed    2119.0   50.0  0.0231    (50.0/2169.0)\n",
              "1      Left      52.0  629.0  0.0764     (52.0/681.0)\n",
              "2     Total    2171.0  679.0  0.0358   (102.0/2850.0)"
            ]
          },
          "metadata": {
            "tags": []
          }
        },
        {
          "output_type": "stream",
          "text": [
            "\n",
            "Maximum Metrics: Maximum metrics at their respective thresholds\n"
          ],
          "name": "stdout"
        },
        {
          "output_type": "display_data",
          "data": {
            "text/html": [
              "<div>\n",
              "<style scoped>\n",
              "    .dataframe tbody tr th:only-of-type {\n",
              "        vertical-align: middle;\n",
              "    }\n",
              "\n",
              "    .dataframe tbody tr th {\n",
              "        vertical-align: top;\n",
              "    }\n",
              "\n",
              "    .dataframe thead th {\n",
              "        text-align: right;\n",
              "    }\n",
              "</style>\n",
              "<table border=\"1\" class=\"dataframe\">\n",
              "  <thead>\n",
              "    <tr style=\"text-align: right;\">\n",
              "      <th></th>\n",
              "      <th>metric</th>\n",
              "      <th>threshold</th>\n",
              "      <th>value</th>\n",
              "      <th>idx</th>\n",
              "    </tr>\n",
              "  </thead>\n",
              "  <tbody>\n",
              "    <tr>\n",
              "      <th>0</th>\n",
              "      <td>max f1</td>\n",
              "      <td>0.371356</td>\n",
              "      <td>0.925000</td>\n",
              "      <td>165.0</td>\n",
              "    </tr>\n",
              "    <tr>\n",
              "      <th>1</th>\n",
              "      <td>max f2</td>\n",
              "      <td>0.183355</td>\n",
              "      <td>0.930905</td>\n",
              "      <td>210.0</td>\n",
              "    </tr>\n",
              "    <tr>\n",
              "      <th>2</th>\n",
              "      <td>max f0point5</td>\n",
              "      <td>0.864847</td>\n",
              "      <td>0.955858</td>\n",
              "      <td>97.0</td>\n",
              "    </tr>\n",
              "    <tr>\n",
              "      <th>3</th>\n",
              "      <td>max accuracy</td>\n",
              "      <td>0.815388</td>\n",
              "      <td>0.964211</td>\n",
              "      <td>107.0</td>\n",
              "    </tr>\n",
              "    <tr>\n",
              "      <th>4</th>\n",
              "      <td>max precision</td>\n",
              "      <td>0.993904</td>\n",
              "      <td>1.000000</td>\n",
              "      <td>0.0</td>\n",
              "    </tr>\n",
              "    <tr>\n",
              "      <th>5</th>\n",
              "      <td>max recall</td>\n",
              "      <td>0.004028</td>\n",
              "      <td>1.000000</td>\n",
              "      <td>391.0</td>\n",
              "    </tr>\n",
              "    <tr>\n",
              "      <th>6</th>\n",
              "      <td>max specificity</td>\n",
              "      <td>0.993904</td>\n",
              "      <td>1.000000</td>\n",
              "      <td>0.0</td>\n",
              "    </tr>\n",
              "    <tr>\n",
              "      <th>7</th>\n",
              "      <td>max absolute_mcc</td>\n",
              "      <td>0.371356</td>\n",
              "      <td>0.901499</td>\n",
              "      <td>165.0</td>\n",
              "    </tr>\n",
              "    <tr>\n",
              "      <th>8</th>\n",
              "      <td>max min_per_class_accuracy</td>\n",
              "      <td>0.141757</td>\n",
              "      <td>0.948605</td>\n",
              "      <td>224.0</td>\n",
              "    </tr>\n",
              "    <tr>\n",
              "      <th>9</th>\n",
              "      <td>max mean_per_class_accuracy</td>\n",
              "      <td>0.286204</td>\n",
              "      <td>0.952753</td>\n",
              "      <td>185.0</td>\n",
              "    </tr>\n",
              "    <tr>\n",
              "      <th>10</th>\n",
              "      <td>max tns</td>\n",
              "      <td>0.993904</td>\n",
              "      <td>2169.000000</td>\n",
              "      <td>0.0</td>\n",
              "    </tr>\n",
              "    <tr>\n",
              "      <th>11</th>\n",
              "      <td>max fns</td>\n",
              "      <td>0.993904</td>\n",
              "      <td>679.000000</td>\n",
              "      <td>0.0</td>\n",
              "    </tr>\n",
              "    <tr>\n",
              "      <th>12</th>\n",
              "      <td>max fps</td>\n",
              "      <td>0.001477</td>\n",
              "      <td>2169.000000</td>\n",
              "      <td>399.0</td>\n",
              "    </tr>\n",
              "    <tr>\n",
              "      <th>13</th>\n",
              "      <td>max tps</td>\n",
              "      <td>0.004028</td>\n",
              "      <td>681.000000</td>\n",
              "      <td>391.0</td>\n",
              "    </tr>\n",
              "    <tr>\n",
              "      <th>14</th>\n",
              "      <td>max tnr</td>\n",
              "      <td>0.993904</td>\n",
              "      <td>1.000000</td>\n",
              "      <td>0.0</td>\n",
              "    </tr>\n",
              "    <tr>\n",
              "      <th>15</th>\n",
              "      <td>max fnr</td>\n",
              "      <td>0.993904</td>\n",
              "      <td>0.997063</td>\n",
              "      <td>0.0</td>\n",
              "    </tr>\n",
              "    <tr>\n",
              "      <th>16</th>\n",
              "      <td>max fpr</td>\n",
              "      <td>0.001477</td>\n",
              "      <td>1.000000</td>\n",
              "      <td>399.0</td>\n",
              "    </tr>\n",
              "    <tr>\n",
              "      <th>17</th>\n",
              "      <td>max tpr</td>\n",
              "      <td>0.004028</td>\n",
              "      <td>1.000000</td>\n",
              "      <td>391.0</td>\n",
              "    </tr>\n",
              "  </tbody>\n",
              "</table>\n",
              "</div>"
            ],
            "text/plain": [
              "                         metric  threshold        value    idx\n",
              "0                        max f1   0.371356     0.925000  165.0\n",
              "1                        max f2   0.183355     0.930905  210.0\n",
              "2                  max f0point5   0.864847     0.955858   97.0\n",
              "3                  max accuracy   0.815388     0.964211  107.0\n",
              "4                 max precision   0.993904     1.000000    0.0\n",
              "5                    max recall   0.004028     1.000000  391.0\n",
              "6               max specificity   0.993904     1.000000    0.0\n",
              "7              max absolute_mcc   0.371356     0.901499  165.0\n",
              "8    max min_per_class_accuracy   0.141757     0.948605  224.0\n",
              "9   max mean_per_class_accuracy   0.286204     0.952753  185.0\n",
              "10                      max tns   0.993904  2169.000000    0.0\n",
              "11                      max fns   0.993904   679.000000    0.0\n",
              "12                      max fps   0.001477  2169.000000  399.0\n",
              "13                      max tps   0.004028   681.000000  391.0\n",
              "14                      max tnr   0.993904     1.000000    0.0\n",
              "15                      max fnr   0.993904     0.997063    0.0\n",
              "16                      max fpr   0.001477     1.000000  399.0\n",
              "17                      max tpr   0.004028     1.000000  391.0"
            ]
          },
          "metadata": {
            "tags": []
          }
        },
        {
          "output_type": "stream",
          "text": [
            "\n",
            "Gains/Lift Table: Avg response rate: 23.89 %, avg score: 24.16 %\n"
          ],
          "name": "stdout"
        },
        {
          "output_type": "display_data",
          "data": {
            "text/html": [
              "<div>\n",
              "<style scoped>\n",
              "    .dataframe tbody tr th:only-of-type {\n",
              "        vertical-align: middle;\n",
              "    }\n",
              "\n",
              "    .dataframe tbody tr th {\n",
              "        vertical-align: top;\n",
              "    }\n",
              "\n",
              "    .dataframe thead th {\n",
              "        text-align: right;\n",
              "    }\n",
              "</style>\n",
              "<table border=\"1\" class=\"dataframe\">\n",
              "  <thead>\n",
              "    <tr style=\"text-align: right;\">\n",
              "      <th></th>\n",
              "      <th>group</th>\n",
              "      <th>cumulative_data_fraction</th>\n",
              "      <th>lower_threshold</th>\n",
              "      <th>lift</th>\n",
              "      <th>cumulative_lift</th>\n",
              "      <th>response_rate</th>\n",
              "      <th>score</th>\n",
              "      <th>cumulative_response_rate</th>\n",
              "      <th>cumulative_score</th>\n",
              "      <th>capture_rate</th>\n",
              "      <th>cumulative_capture_rate</th>\n",
              "      <th>gain</th>\n",
              "      <th>cumulative_gain</th>\n",
              "      <th>kolmogorov_smirnov</th>\n",
              "    </tr>\n",
              "  </thead>\n",
              "  <tbody>\n",
              "    <tr>\n",
              "      <th>0</th>\n",
              "      <td>1</td>\n",
              "      <td>0.010175</td>\n",
              "      <td>0.990250</td>\n",
              "      <td>4.185022</td>\n",
              "      <td>4.185022</td>\n",
              "      <td>1.000000</td>\n",
              "      <td>0.992009</td>\n",
              "      <td>1.000000</td>\n",
              "      <td>0.992009</td>\n",
              "      <td>0.042584</td>\n",
              "      <td>0.042584</td>\n",
              "      <td>318.502203</td>\n",
              "      <td>318.502203</td>\n",
              "      <td>0.042584</td>\n",
              "    </tr>\n",
              "    <tr>\n",
              "      <th>1</th>\n",
              "      <td>2</td>\n",
              "      <td>0.020000</td>\n",
              "      <td>0.987169</td>\n",
              "      <td>4.185022</td>\n",
              "      <td>4.185022</td>\n",
              "      <td>1.000000</td>\n",
              "      <td>0.988783</td>\n",
              "      <td>1.000000</td>\n",
              "      <td>0.990424</td>\n",
              "      <td>0.041116</td>\n",
              "      <td>0.083700</td>\n",
              "      <td>318.502203</td>\n",
              "      <td>318.502203</td>\n",
              "      <td>0.083700</td>\n",
              "    </tr>\n",
              "    <tr>\n",
              "      <th>2</th>\n",
              "      <td>3</td>\n",
              "      <td>0.030175</td>\n",
              "      <td>0.986185</td>\n",
              "      <td>4.185022</td>\n",
              "      <td>4.185022</td>\n",
              "      <td>1.000000</td>\n",
              "      <td>0.986651</td>\n",
              "      <td>1.000000</td>\n",
              "      <td>0.989152</td>\n",
              "      <td>0.042584</td>\n",
              "      <td>0.126285</td>\n",
              "      <td>318.502203</td>\n",
              "      <td>318.502203</td>\n",
              "      <td>0.126285</td>\n",
              "    </tr>\n",
              "    <tr>\n",
              "      <th>3</th>\n",
              "      <td>4</td>\n",
              "      <td>0.040000</td>\n",
              "      <td>0.985307</td>\n",
              "      <td>4.185022</td>\n",
              "      <td>4.185022</td>\n",
              "      <td>1.000000</td>\n",
              "      <td>0.985767</td>\n",
              "      <td>1.000000</td>\n",
              "      <td>0.988320</td>\n",
              "      <td>0.041116</td>\n",
              "      <td>0.167401</td>\n",
              "      <td>318.502203</td>\n",
              "      <td>318.502203</td>\n",
              "      <td>0.167401</td>\n",
              "    </tr>\n",
              "    <tr>\n",
              "      <th>4</th>\n",
              "      <td>5</td>\n",
              "      <td>0.050175</td>\n",
              "      <td>0.984550</td>\n",
              "      <td>4.185022</td>\n",
              "      <td>4.185022</td>\n",
              "      <td>1.000000</td>\n",
              "      <td>0.984874</td>\n",
              "      <td>1.000000</td>\n",
              "      <td>0.987621</td>\n",
              "      <td>0.042584</td>\n",
              "      <td>0.209985</td>\n",
              "      <td>318.502203</td>\n",
              "      <td>318.502203</td>\n",
              "      <td>0.209985</td>\n",
              "    </tr>\n",
              "    <tr>\n",
              "      <th>5</th>\n",
              "      <td>6</td>\n",
              "      <td>0.100000</td>\n",
              "      <td>0.980645</td>\n",
              "      <td>4.185022</td>\n",
              "      <td>4.185022</td>\n",
              "      <td>1.000000</td>\n",
              "      <td>0.982854</td>\n",
              "      <td>1.000000</td>\n",
              "      <td>0.985246</td>\n",
              "      <td>0.208517</td>\n",
              "      <td>0.418502</td>\n",
              "      <td>318.502203</td>\n",
              "      <td>318.502203</td>\n",
              "      <td>0.418502</td>\n",
              "    </tr>\n",
              "    <tr>\n",
              "      <th>6</th>\n",
              "      <td>7</td>\n",
              "      <td>0.150175</td>\n",
              "      <td>0.970451</td>\n",
              "      <td>4.097224</td>\n",
              "      <td>4.155688</td>\n",
              "      <td>0.979021</td>\n",
              "      <td>0.976706</td>\n",
              "      <td>0.992991</td>\n",
              "      <td>0.982393</td>\n",
              "      <td>0.205580</td>\n",
              "      <td>0.624082</td>\n",
              "      <td>309.722436</td>\n",
              "      <td>315.568776</td>\n",
              "      <td>0.622699</td>\n",
              "    </tr>\n",
              "    <tr>\n",
              "      <th>7</th>\n",
              "      <td>8</td>\n",
              "      <td>0.200000</td>\n",
              "      <td>0.931288</td>\n",
              "      <td>4.067134</td>\n",
              "      <td>4.133627</td>\n",
              "      <td>0.971831</td>\n",
              "      <td>0.956930</td>\n",
              "      <td>0.987719</td>\n",
              "      <td>0.976050</td>\n",
              "      <td>0.202643</td>\n",
              "      <td>0.826725</td>\n",
              "      <td>306.713408</td>\n",
              "      <td>313.362702</td>\n",
              "      <td>0.823498</td>\n",
              "    </tr>\n",
              "    <tr>\n",
              "      <th>8</th>\n",
              "      <td>9</td>\n",
              "      <td>0.300000</td>\n",
              "      <td>0.061328</td>\n",
              "      <td>1.248164</td>\n",
              "      <td>3.171806</td>\n",
              "      <td>0.298246</td>\n",
              "      <td>0.362597</td>\n",
              "      <td>0.757895</td>\n",
              "      <td>0.771565</td>\n",
              "      <td>0.124816</td>\n",
              "      <td>0.951542</td>\n",
              "      <td>24.816446</td>\n",
              "      <td>217.180617</td>\n",
              "      <td>0.856106</td>\n",
              "    </tr>\n",
              "    <tr>\n",
              "      <th>9</th>\n",
              "      <td>10</td>\n",
              "      <td>0.400000</td>\n",
              "      <td>0.026842</td>\n",
              "      <td>0.190896</td>\n",
              "      <td>2.426579</td>\n",
              "      <td>0.045614</td>\n",
              "      <td>0.038787</td>\n",
              "      <td>0.579825</td>\n",
              "      <td>0.588371</td>\n",
              "      <td>0.019090</td>\n",
              "      <td>0.970631</td>\n",
              "      <td>-80.910426</td>\n",
              "      <td>142.657856</td>\n",
              "      <td>0.749792</td>\n",
              "    </tr>\n",
              "    <tr>\n",
              "      <th>10</th>\n",
              "      <td>11</td>\n",
              "      <td>0.500000</td>\n",
              "      <td>0.016493</td>\n",
              "      <td>0.117474</td>\n",
              "      <td>1.964758</td>\n",
              "      <td>0.028070</td>\n",
              "      <td>0.020901</td>\n",
              "      <td>0.469474</td>\n",
              "      <td>0.474877</td>\n",
              "      <td>0.011747</td>\n",
              "      <td>0.982379</td>\n",
              "      <td>-88.252570</td>\n",
              "      <td>96.475771</td>\n",
              "      <td>0.633831</td>\n",
              "    </tr>\n",
              "    <tr>\n",
              "      <th>11</th>\n",
              "      <td>12</td>\n",
              "      <td>0.600000</td>\n",
              "      <td>0.011682</td>\n",
              "      <td>0.058737</td>\n",
              "      <td>1.647088</td>\n",
              "      <td>0.014035</td>\n",
              "      <td>0.013826</td>\n",
              "      <td>0.393567</td>\n",
              "      <td>0.398035</td>\n",
              "      <td>0.005874</td>\n",
              "      <td>0.988253</td>\n",
              "      <td>-94.126285</td>\n",
              "      <td>64.708762</td>\n",
              "      <td>0.510152</td>\n",
              "    </tr>\n",
              "    <tr>\n",
              "      <th>12</th>\n",
              "      <td>13</td>\n",
              "      <td>0.700000</td>\n",
              "      <td>0.008753</td>\n",
              "      <td>0.029369</td>\n",
              "      <td>1.415985</td>\n",
              "      <td>0.007018</td>\n",
              "      <td>0.010126</td>\n",
              "      <td>0.338346</td>\n",
              "      <td>0.342620</td>\n",
              "      <td>0.002937</td>\n",
              "      <td>0.991189</td>\n",
              "      <td>-97.063142</td>\n",
              "      <td>41.598490</td>\n",
              "      <td>0.382614</td>\n",
              "    </tr>\n",
              "    <tr>\n",
              "      <th>13</th>\n",
              "      <td>14</td>\n",
              "      <td>0.800000</td>\n",
              "      <td>0.006703</td>\n",
              "      <td>0.014684</td>\n",
              "      <td>1.240822</td>\n",
              "      <td>0.003509</td>\n",
              "      <td>0.007681</td>\n",
              "      <td>0.296491</td>\n",
              "      <td>0.300752</td>\n",
              "      <td>0.001468</td>\n",
              "      <td>0.992658</td>\n",
              "      <td>-98.531571</td>\n",
              "      <td>24.082232</td>\n",
              "      <td>0.253147</td>\n",
              "    </tr>\n",
              "    <tr>\n",
              "      <th>14</th>\n",
              "      <td>15</td>\n",
              "      <td>0.900000</td>\n",
              "      <td>0.004941</td>\n",
              "      <td>0.058737</td>\n",
              "      <td>1.109480</td>\n",
              "      <td>0.014035</td>\n",
              "      <td>0.005819</td>\n",
              "      <td>0.265107</td>\n",
              "      <td>0.267982</td>\n",
              "      <td>0.005874</td>\n",
              "      <td>0.998532</td>\n",
              "      <td>-94.126285</td>\n",
              "      <td>10.947952</td>\n",
              "      <td>0.129467</td>\n",
              "    </tr>\n",
              "    <tr>\n",
              "      <th>15</th>\n",
              "      <td>16</td>\n",
              "      <td>1.000000</td>\n",
              "      <td>0.001291</td>\n",
              "      <td>0.014684</td>\n",
              "      <td>1.000000</td>\n",
              "      <td>0.003509</td>\n",
              "      <td>0.003778</td>\n",
              "      <td>0.238947</td>\n",
              "      <td>0.241562</td>\n",
              "      <td>0.001468</td>\n",
              "      <td>1.000000</td>\n",
              "      <td>-98.531571</td>\n",
              "      <td>0.000000</td>\n",
              "      <td>0.000000</td>\n",
              "    </tr>\n",
              "  </tbody>\n",
              "</table>\n",
              "</div>"
            ],
            "text/plain": [
              "    group  cumulative_data_fraction  ...  cumulative_gain  kolmogorov_smirnov\n",
              "0       1                  0.010175  ...       318.502203            0.042584\n",
              "1       2                  0.020000  ...       318.502203            0.083700\n",
              "2       3                  0.030175  ...       318.502203            0.126285\n",
              "3       4                  0.040000  ...       318.502203            0.167401\n",
              "4       5                  0.050175  ...       318.502203            0.209985\n",
              "5       6                  0.100000  ...       318.502203            0.418502\n",
              "6       7                  0.150175  ...       315.568776            0.622699\n",
              "7       8                  0.200000  ...       313.362702            0.823498\n",
              "8       9                  0.300000  ...       217.180617            0.856106\n",
              "9      10                  0.400000  ...       142.657856            0.749792\n",
              "10     11                  0.500000  ...        96.475771            0.633831\n",
              "11     12                  0.600000  ...        64.708762            0.510152\n",
              "12     13                  0.700000  ...        41.598490            0.382614\n",
              "13     14                  0.800000  ...        24.082232            0.253147\n",
              "14     15                  0.900000  ...        10.947952            0.129467\n",
              "15     16                  1.000000  ...         0.000000            0.000000\n",
              "\n",
              "[16 rows x 14 columns]"
            ]
          },
          "metadata": {
            "tags": []
          }
        },
        {
          "output_type": "stream",
          "text": [
            "\n"
          ],
          "name": "stdout"
        },
        {
          "output_type": "execute_result",
          "data": {
            "text/plain": [
              ""
            ]
          },
          "metadata": {
            "tags": []
          },
          "execution_count": 34
        }
      ]
    },
    {
      "cell_type": "code",
      "metadata": {
        "colab": {
          "base_uri": "https://localhost:8080/",
          "height": 267
        },
        "id": "yZ_ckEdD56Ra",
        "outputId": "0e4f5e77-7a1d-4035-acc6-3236d4db731c"
      },
      "source": [
        "client_data = pd.read_csv('/content/Employee Attrition Data - Client request.csv')\n",
        "hf_client = h2o.H2OFrame(client_data)\n",
        "hf_client"
      ],
      "execution_count": 39,
      "outputs": [
        {
          "output_type": "stream",
          "text": [
            "Parse progress: |█████████████████████████████████████████████████████████| 100%\n"
          ],
          "name": "stdout"
        },
        {
          "output_type": "display_data",
          "data": {
            "text/html": [
              "<table>\n",
              "<thead>\n",
              "<tr><th style=\"text-align: right;\">  avg_monthly_hrs</th><th>department  </th><th style=\"text-align: right;\">  filed_complaint</th><th style=\"text-align: right;\">  last_evaluation</th><th style=\"text-align: right;\">  n_projects</th><th style=\"text-align: right;\">  recently_promoted</th><th>salary  </th><th style=\"text-align: right;\">  satisfaction</th><th style=\"text-align: right;\">  tenure</th></tr>\n",
              "</thead>\n",
              "<tbody>\n",
              "<tr><td style=\"text-align: right;\">              221</td><td>engineering </td><td style=\"text-align: right;\">              nan</td><td style=\"text-align: right;\">         0.932868</td><td style=\"text-align: right;\">           4</td><td style=\"text-align: right;\">                nan</td><td>low     </td><td style=\"text-align: right;\">      0.829896</td><td style=\"text-align: right;\">       5</td></tr>\n",
              "<tr><td style=\"text-align: right;\">              232</td><td>support     </td><td style=\"text-align: right;\">              nan</td><td style=\"text-align: right;\">       nan       </td><td style=\"text-align: right;\">           3</td><td style=\"text-align: right;\">                nan</td><td>low     </td><td style=\"text-align: right;\">      0.834544</td><td style=\"text-align: right;\">       2</td></tr>\n",
              "<tr><td style=\"text-align: right;\">              184</td><td>sales       </td><td style=\"text-align: right;\">              nan</td><td style=\"text-align: right;\">         0.78883 </td><td style=\"text-align: right;\">           3</td><td style=\"text-align: right;\">                nan</td><td>medium  </td><td style=\"text-align: right;\">      0.834988</td><td style=\"text-align: right;\">       3</td></tr>\n",
              "<tr><td style=\"text-align: right;\">              206</td><td>sales       </td><td style=\"text-align: right;\">              nan</td><td style=\"text-align: right;\">         0.575688</td><td style=\"text-align: right;\">           4</td><td style=\"text-align: right;\">                nan</td><td>low     </td><td style=\"text-align: right;\">      0.424764</td><td style=\"text-align: right;\">       2</td></tr>\n",
              "<tr><td style=\"text-align: right;\">              249</td><td>sales       </td><td style=\"text-align: right;\">              nan</td><td style=\"text-align: right;\">         0.845217</td><td style=\"text-align: right;\">           3</td><td style=\"text-align: right;\">                nan</td><td>low     </td><td style=\"text-align: right;\">      0.779043</td><td style=\"text-align: right;\">       3</td></tr>\n",
              "<tr><td style=\"text-align: right;\">              140</td><td>sales       </td><td style=\"text-align: right;\">              nan</td><td style=\"text-align: right;\">         0.589097</td><td style=\"text-align: right;\">           4</td><td style=\"text-align: right;\">                nan</td><td>medium  </td><td style=\"text-align: right;\">      0.66002 </td><td style=\"text-align: right;\">       4</td></tr>\n",
              "<tr><td style=\"text-align: right;\">              121</td><td>sales       </td><td style=\"text-align: right;\">                1</td><td style=\"text-align: right;\">         0.625399</td><td style=\"text-align: right;\">           3</td><td style=\"text-align: right;\">                nan</td><td>low     </td><td style=\"text-align: right;\">      0.835571</td><td style=\"text-align: right;\">       3</td></tr>\n",
              "<tr><td style=\"text-align: right;\">              150</td><td>engineering </td><td style=\"text-align: right;\">              nan</td><td style=\"text-align: right;\">         0.644586</td><td style=\"text-align: right;\">           4</td><td style=\"text-align: right;\">                nan</td><td>low     </td><td style=\"text-align: right;\">      0.796683</td><td style=\"text-align: right;\">       3</td></tr>\n",
              "<tr><td style=\"text-align: right;\">              215</td><td>engineering </td><td style=\"text-align: right;\">                1</td><td style=\"text-align: right;\">         0.524114</td><td style=\"text-align: right;\">           3</td><td style=\"text-align: right;\">                nan</td><td>medium  </td><td style=\"text-align: right;\">      0.715005</td><td style=\"text-align: right;\">       7</td></tr>\n",
              "<tr><td style=\"text-align: right;\">              269</td><td>support     </td><td style=\"text-align: right;\">              nan</td><td style=\"text-align: right;\">         0.909364</td><td style=\"text-align: right;\">           5</td><td style=\"text-align: right;\">                nan</td><td>medium  </td><td style=\"text-align: right;\">      0.994037</td><td style=\"text-align: right;\">       2</td></tr>\n",
              "</tbody>\n",
              "</table>"
            ]
          },
          "metadata": {
            "tags": []
          }
        },
        {
          "output_type": "execute_result",
          "data": {
            "text/plain": [
              ""
            ]
          },
          "metadata": {
            "tags": []
          },
          "execution_count": 39
        }
      ]
    },
    {
      "cell_type": "code",
      "metadata": {
        "colab": {
          "base_uri": "https://localhost:8080/",
          "height": 477
        },
        "id": "_F_dDEed7i7A",
        "outputId": "e7516a07-7ad2-42e8-f141-95bd01f455b5"
      },
      "source": [
        "pred = aml.predict(hf_client)\n",
        "pred.head(20)"
      ],
      "execution_count": 41,
      "outputs": [
        {
          "output_type": "stream",
          "text": [
            "stackedensemble prediction progress: |████████████████████████████████████| 100%\n"
          ],
          "name": "stdout"
        },
        {
          "output_type": "display_data",
          "data": {
            "text/html": [
              "<table>\n",
              "<thead>\n",
              "<tr><th>predict  </th><th style=\"text-align: right;\">  Employed</th><th style=\"text-align: right;\">      Left</th></tr>\n",
              "</thead>\n",
              "<tbody>\n",
              "<tr><td>Left     </td><td style=\"text-align: right;\"> 0.0265089</td><td style=\"text-align: right;\">0.973491  </td></tr>\n",
              "<tr><td>Employed </td><td style=\"text-align: right;\"> 0.992694 </td><td style=\"text-align: right;\">0.00730622</td></tr>\n",
              "<tr><td>Employed </td><td style=\"text-align: right;\"> 0.993783 </td><td style=\"text-align: right;\">0.00621739</td></tr>\n",
              "<tr><td>Employed </td><td style=\"text-align: right;\"> 0.97983  </td><td style=\"text-align: right;\">0.0201699 </td></tr>\n",
              "<tr><td>Employed </td><td style=\"text-align: right;\"> 0.990926 </td><td style=\"text-align: right;\">0.00907435</td></tr>\n",
              "<tr><td>Employed </td><td style=\"text-align: right;\"> 0.984437 </td><td style=\"text-align: right;\">0.0155628 </td></tr>\n",
              "<tr><td>Employed </td><td style=\"text-align: right;\"> 0.99108  </td><td style=\"text-align: right;\">0.00892016</td></tr>\n",
              "<tr><td>Employed </td><td style=\"text-align: right;\"> 0.985071 </td><td style=\"text-align: right;\">0.0149287 </td></tr>\n",
              "<tr><td>Employed </td><td style=\"text-align: right;\"> 0.995323 </td><td style=\"text-align: right;\">0.00467653</td></tr>\n",
              "<tr><td>Employed </td><td style=\"text-align: right;\"> 0.985091 </td><td style=\"text-align: right;\">0.0149091 </td></tr>\n",
              "<tr><td>Left     </td><td style=\"text-align: right;\"> 0.0443148</td><td style=\"text-align: right;\">0.955685  </td></tr>\n",
              "<tr><td>Employed </td><td style=\"text-align: right;\"> 0.877893 </td><td style=\"text-align: right;\">0.122107  </td></tr>\n",
              "<tr><td>Employed </td><td style=\"text-align: right;\"> 0.956473 </td><td style=\"text-align: right;\">0.0435273 </td></tr>\n",
              "<tr><td>Left     </td><td style=\"text-align: right;\"> 0.0295691</td><td style=\"text-align: right;\">0.970431  </td></tr>\n",
              "<tr><td>Employed </td><td style=\"text-align: right;\"> 0.958107 </td><td style=\"text-align: right;\">0.0418934 </td></tr>\n",
              "<tr><td>Left     </td><td style=\"text-align: right;\"> 0.054962 </td><td style=\"text-align: right;\">0.945038  </td></tr>\n",
              "<tr><td>Employed </td><td style=\"text-align: right;\"> 0.978825 </td><td style=\"text-align: right;\">0.0211749 </td></tr>\n",
              "<tr><td>Left     </td><td style=\"text-align: right;\"> 0.0496885</td><td style=\"text-align: right;\">0.950312  </td></tr>\n",
              "<tr><td>Employed </td><td style=\"text-align: right;\"> 0.992402 </td><td style=\"text-align: right;\">0.00759777</td></tr>\n",
              "<tr><td>Left     </td><td style=\"text-align: right;\"> 0.0536592</td><td style=\"text-align: right;\">0.946341  </td></tr>\n",
              "</tbody>\n",
              "</table>"
            ]
          },
          "metadata": {
            "tags": []
          }
        },
        {
          "output_type": "execute_result",
          "data": {
            "text/plain": [
              ""
            ]
          },
          "metadata": {
            "tags": []
          },
          "execution_count": 41
        }
      ]
    },
    {
      "cell_type": "code",
      "metadata": {
        "id": "wjGkLLmE7-XL"
      },
      "source": [
        "pred_df = pred.as_data_frame()"
      ],
      "execution_count": 42,
      "outputs": []
    },
    {
      "cell_type": "code",
      "metadata": {
        "id": "-WK7Y0BJ8JQS"
      },
      "source": [
        "client_data['prediction'] = pred_df['predict']"
      ],
      "execution_count": 43,
      "outputs": []
    },
    {
      "cell_type": "code",
      "metadata": {
        "id": "peyDVlhO8W8j"
      },
      "source": [
        "client_data.to_csv('Employee Data Predictions.csv')"
      ],
      "execution_count": 44,
      "outputs": []
    }
  ]
}