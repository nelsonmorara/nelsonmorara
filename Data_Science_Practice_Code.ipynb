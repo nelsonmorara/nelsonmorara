{
  "nbformat": 4,
  "nbformat_minor": 0,
  "metadata": {
    "kernelspec": {
      "display_name": "Python 3",
      "language": "python",
      "name": "python3"
    },
    "language_info": {
      "codemirror_mode": {
        "name": "ipython",
        "version": 3
      },
      "file_extension": ".py",
      "mimetype": "text/x-python",
      "name": "python",
      "nbconvert_exporter": "python",
      "pygments_lexer": "ipython3",
      "version": "3.6.2"
    },
    "colab": {
      "name": "Data-Science-Practice-Code.ipynb",
      "provenance": [],
      "collapsed_sections": [],
      "include_colab_link": true
    }
  },
  "cells": [
    {
      "cell_type": "markdown",
      "metadata": {
        "id": "view-in-github",
        "colab_type": "text"
      },
      "source": [
        "<a href=\"https://colab.research.google.com/github/nelsonmorara/nelsonmorara/blob/main/Data_Science_Practice_Code.ipynb\" target=\"_parent\"><img src=\"https://colab.research.google.com/assets/colab-badge.svg\" alt=\"Open In Colab\"/></a>"
      ]
    },
    {
      "cell_type": "markdown",
      "metadata": {
        "id": "zD3XFfqa_pqf"
      },
      "source": [
        "# Come up with a Question\n",
        "\n",
        "Do younger users tend to live in bigger cities and do older users live in smaller cities? "
      ]
    },
    {
      "cell_type": "markdown",
      "metadata": {
        "id": "QCdD-dR2_pqh"
      },
      "source": [
        "# Determine the Necessary Data"
      ]
    },
    {
      "cell_type": "code",
      "metadata": {
        "id": "ye1j3dv7_pqh",
        "outputId": "08e6ede9-bb99-41a5-c40d-72dad10905df"
      },
      "source": [
        "# Import modules:\n",
        "import pandas as pd\n",
        "import numpy as np\n",
        "\n",
        "# Import the data:\n",
        "user_data = pd.read_csv(\"user_data.csv\")\n",
        "\n",
        "# Create age variable and find population mean:\n",
        "population_mean = np.mean(user_data[\"age\"])\n",
        "\n",
        "# Select increasingly larger samples:\n",
        "extra_small_sample = user_data[\"age\"][:10]\n",
        "small_sample = user_data[\"age\"][:50]\n",
        "medium_sample = user_data[\"age\"][:100]\n",
        "large_sample = user_data[\"age\"][:200]\n",
        "\n",
        "# Calculate the mean of those samples:\n",
        "extra_small_sample_mean = np.mean(extra_small_sample)\n",
        "small_sample_mean = np.mean(small_sample)\n",
        "medium_sample_mean = np.mean(medium_sample)\n",
        "large_sample_mean = np.mean(large_sample)\n",
        "\n",
        "# Print them all out!\n",
        "print (\"Extra Small Sample Mean: \" + str(extra_small_sample_mean))\n",
        "print (\"Small Sample Mean: \" + str(small_sample_mean))\n",
        "print (\"Medium Sample Mean: \" + str(medium_sample_mean))\n",
        "print (\"Large Sample Mean: \" + str(large_sample_mean))\n",
        "\n",
        "\n",
        "print (\"\\nPopulation Mean: \"+ str(population_mean))\n"
      ],
      "execution_count": null,
      "outputs": [
        {
          "output_type": "stream",
          "text": [
            "Extra Small Sample Mean: 29.0\n",
            "Small Sample Mean: 29.24\n",
            "Medium Sample Mean: 29.04\n",
            "Large Sample Mean: 29.35\n",
            "\n",
            "Population Mean: 29.427860696517413\n"
          ],
          "name": "stdout"
        }
      ]
    },
    {
      "cell_type": "markdown",
      "metadata": {
        "id": "AcOh4_3f_pqi"
      },
      "source": [
        "# Get the Data\n",
        "\n",
        "You can find the dataset at [https://simplemaps.com/data/us-cities](https://simplemaps.com/data/us-cities)."
      ]
    },
    {
      "cell_type": "markdown",
      "metadata": {
        "id": "dljTqK5__pqj"
      },
      "source": [
        "# Clean the Data"
      ]
    },
    {
      "cell_type": "code",
      "metadata": {
        "id": "b2Ms3-vi_pqj",
        "outputId": "b66d369f-bed5-42eb-8501-d96381391209"
      },
      "source": [
        "# Import the data:\n",
        "pop_data = pd.read_csv(\"us_cities_small.csv\")\n",
        "\n",
        "# Look at the current pop_data DataFrame:\n",
        "pop_data.head()"
      ],
      "execution_count": null,
      "outputs": [
        {
          "output_type": "execute_result",
          "data": {
            "text/html": [
              "<div>\n",
              "<style>\n",
              "    .dataframe thead tr:only-child th {\n",
              "        text-align: right;\n",
              "    }\n",
              "\n",
              "    .dataframe thead th {\n",
              "        text-align: left;\n",
              "    }\n",
              "\n",
              "    .dataframe tbody tr th {\n",
              "        vertical-align: top;\n",
              "    }\n",
              "</style>\n",
              "<table border=\"1\" class=\"dataframe\">\n",
              "  <thead>\n",
              "    <tr style=\"text-align: right;\">\n",
              "      <th></th>\n",
              "      <th>city</th>\n",
              "      <th>population_proper</th>\n",
              "    </tr>\n",
              "  </thead>\n",
              "  <tbody>\n",
              "    <tr>\n",
              "      <th>0</th>\n",
              "      <td>Prairie Ridge, WA</td>\n",
              "      <td>NaN</td>\n",
              "    </tr>\n",
              "    <tr>\n",
              "      <th>1</th>\n",
              "      <td>Edison, WA</td>\n",
              "      <td>NaN</td>\n",
              "    </tr>\n",
              "    <tr>\n",
              "      <th>2</th>\n",
              "      <td>Packwood, WA</td>\n",
              "      <td>NaN</td>\n",
              "    </tr>\n",
              "    <tr>\n",
              "      <th>3</th>\n",
              "      <td>Wautauga Beach, WA</td>\n",
              "      <td>NaN</td>\n",
              "    </tr>\n",
              "    <tr>\n",
              "      <th>4</th>\n",
              "      <td>Harper, WA</td>\n",
              "      <td>NaN</td>\n",
              "    </tr>\n",
              "  </tbody>\n",
              "</table>\n",
              "</div>"
            ],
            "text/plain": [
              "                 city  population_proper\n",
              "0   Prairie Ridge, WA                NaN\n",
              "1          Edison, WA                NaN\n",
              "2        Packwood, WA                NaN\n",
              "3  Wautauga Beach, WA                NaN\n",
              "4          Harper, WA                NaN"
            ]
          },
          "metadata": {
            "tags": []
          },
          "execution_count": 95
        }
      ]
    },
    {
      "cell_type": "code",
      "metadata": {
        "id": "Y7DbJAhb_pqk",
        "outputId": "2d720bce-2b33-4de0-ca82-68974ae480c6"
      },
      "source": [
        "# Look at the current user_data DataFrame:\n",
        "user_data.head()"
      ],
      "execution_count": null,
      "outputs": [
        {
          "output_type": "execute_result",
          "data": {
            "text/html": [
              "<div>\n",
              "<style>\n",
              "    .dataframe thead tr:only-child th {\n",
              "        text-align: right;\n",
              "    }\n",
              "\n",
              "    .dataframe thead th {\n",
              "        text-align: left;\n",
              "    }\n",
              "\n",
              "    .dataframe tbody tr th {\n",
              "        vertical-align: top;\n",
              "    }\n",
              "</style>\n",
              "<table border=\"1\" class=\"dataframe\">\n",
              "  <thead>\n",
              "    <tr style=\"text-align: right;\">\n",
              "      <th></th>\n",
              "      <th>city</th>\n",
              "      <th>education</th>\n",
              "      <th>age</th>\n",
              "    </tr>\n",
              "  </thead>\n",
              "  <tbody>\n",
              "    <tr>\n",
              "      <th>0</th>\n",
              "      <td>Brooklyn, NY</td>\n",
              "      <td>college</td>\n",
              "      <td>31</td>\n",
              "    </tr>\n",
              "    <tr>\n",
              "      <th>1</th>\n",
              "      <td>Brooklyn, NY</td>\n",
              "      <td>graduate degree</td>\n",
              "      <td>31</td>\n",
              "    </tr>\n",
              "    <tr>\n",
              "      <th>2</th>\n",
              "      <td>Brooklyn, NY</td>\n",
              "      <td>graduate degree</td>\n",
              "      <td>32</td>\n",
              "    </tr>\n",
              "    <tr>\n",
              "      <th>3</th>\n",
              "      <td>Brooklyn, NY</td>\n",
              "      <td>college</td>\n",
              "      <td>37</td>\n",
              "    </tr>\n",
              "    <tr>\n",
              "      <th>4</th>\n",
              "      <td>Brooklyn, NY</td>\n",
              "      <td>college</td>\n",
              "      <td>21</td>\n",
              "    </tr>\n",
              "  </tbody>\n",
              "</table>\n",
              "</div>"
            ],
            "text/plain": [
              "           city        education  age\n",
              "0  Brooklyn, NY          college   31\n",
              "1  Brooklyn, NY  graduate degree   31\n",
              "2  Brooklyn, NY  graduate degree   32\n",
              "3  Brooklyn, NY          college   37\n",
              "4  Brooklyn, NY          college   21"
            ]
          },
          "metadata": {
            "tags": []
          },
          "execution_count": 96
        }
      ]
    },
    {
      "cell_type": "code",
      "metadata": {
        "id": "hGzYsJcL_pqk",
        "outputId": "00cec3ec-9d7c-4e47-d6f6-f9d29cfacaf2"
      },
      "source": [
        "# Merge the two datasets on the city column:\n",
        "\n",
        "new_df = pd.merge(user_data, pop_data)\n",
        "new_df.head(10)"
      ],
      "execution_count": null,
      "outputs": [
        {
          "output_type": "execute_result",
          "data": {
            "text/html": [
              "<div>\n",
              "<style>\n",
              "    .dataframe thead tr:only-child th {\n",
              "        text-align: right;\n",
              "    }\n",
              "\n",
              "    .dataframe thead th {\n",
              "        text-align: left;\n",
              "    }\n",
              "\n",
              "    .dataframe tbody tr th {\n",
              "        vertical-align: top;\n",
              "    }\n",
              "</style>\n",
              "<table border=\"1\" class=\"dataframe\">\n",
              "  <thead>\n",
              "    <tr style=\"text-align: right;\">\n",
              "      <th></th>\n",
              "      <th>city</th>\n",
              "      <th>education</th>\n",
              "      <th>age</th>\n",
              "      <th>population_proper</th>\n",
              "    </tr>\n",
              "  </thead>\n",
              "  <tbody>\n",
              "    <tr>\n",
              "      <th>0</th>\n",
              "      <td>Brooklyn, NY</td>\n",
              "      <td>college</td>\n",
              "      <td>31</td>\n",
              "      <td>2629150.0</td>\n",
              "    </tr>\n",
              "    <tr>\n",
              "      <th>1</th>\n",
              "      <td>Brooklyn, NY</td>\n",
              "      <td>graduate degree</td>\n",
              "      <td>31</td>\n",
              "      <td>2629150.0</td>\n",
              "    </tr>\n",
              "    <tr>\n",
              "      <th>2</th>\n",
              "      <td>Brooklyn, NY</td>\n",
              "      <td>graduate degree</td>\n",
              "      <td>32</td>\n",
              "      <td>2629150.0</td>\n",
              "    </tr>\n",
              "    <tr>\n",
              "      <th>3</th>\n",
              "      <td>Brooklyn, NY</td>\n",
              "      <td>college</td>\n",
              "      <td>37</td>\n",
              "      <td>2629150.0</td>\n",
              "    </tr>\n",
              "    <tr>\n",
              "      <th>4</th>\n",
              "      <td>Brooklyn, NY</td>\n",
              "      <td>college</td>\n",
              "      <td>21</td>\n",
              "      <td>2629150.0</td>\n",
              "    </tr>\n",
              "    <tr>\n",
              "      <th>5</th>\n",
              "      <td>Austin, TX</td>\n",
              "      <td>college</td>\n",
              "      <td>25</td>\n",
              "      <td>947890.0</td>\n",
              "    </tr>\n",
              "    <tr>\n",
              "      <th>6</th>\n",
              "      <td>Austin, TX</td>\n",
              "      <td>graduate degree</td>\n",
              "      <td>22</td>\n",
              "      <td>947890.0</td>\n",
              "    </tr>\n",
              "    <tr>\n",
              "      <th>7</th>\n",
              "      <td>Oakland, CA</td>\n",
              "      <td>graduate degree</td>\n",
              "      <td>29</td>\n",
              "      <td>420005.0</td>\n",
              "    </tr>\n",
              "    <tr>\n",
              "      <th>8</th>\n",
              "      <td>Pittsburgh, PA</td>\n",
              "      <td>college</td>\n",
              "      <td>29</td>\n",
              "      <td>303625.0</td>\n",
              "    </tr>\n",
              "    <tr>\n",
              "      <th>9</th>\n",
              "      <td>Pittsburgh, PA</td>\n",
              "      <td>college</td>\n",
              "      <td>27</td>\n",
              "      <td>303625.0</td>\n",
              "    </tr>\n",
              "  </tbody>\n",
              "</table>\n",
              "</div>"
            ],
            "text/plain": [
              "             city        education  age  population_proper\n",
              "0    Brooklyn, NY          college   31          2629150.0\n",
              "1    Brooklyn, NY  graduate degree   31          2629150.0\n",
              "2    Brooklyn, NY  graduate degree   32          2629150.0\n",
              "3    Brooklyn, NY          college   37          2629150.0\n",
              "4    Brooklyn, NY          college   21          2629150.0\n",
              "5      Austin, TX          college   25           947890.0\n",
              "6      Austin, TX  graduate degree   22           947890.0\n",
              "7     Oakland, CA  graduate degree   29           420005.0\n",
              "8  Pittsburgh, PA          college   29           303625.0\n",
              "9  Pittsburgh, PA          college   27           303625.0"
            ]
          },
          "metadata": {
            "tags": []
          },
          "execution_count": 97
        }
      ]
    },
    {
      "cell_type": "code",
      "metadata": {
        "id": "ei6vKmrZ_pql",
        "outputId": "66000e88-485b-4aed-9e9b-53b00d4b69e2"
      },
      "source": [
        "# Write a logic statement that determines if a location is \"rural\" or \"urban\":\n",
        "new_df.loc[new_df.population_proper < 100000, \"location\"] = \"rural\"\n",
        "new_df.loc[new_df.population_proper >= 100000, \"location\"] = \"urban\"\n",
        "\n",
        "# look at the new DataFrame:\n",
        "new_df.head(20)"
      ],
      "execution_count": null,
      "outputs": [
        {
          "output_type": "execute_result",
          "data": {
            "text/html": [
              "<div>\n",
              "<style>\n",
              "    .dataframe thead tr:only-child th {\n",
              "        text-align: right;\n",
              "    }\n",
              "\n",
              "    .dataframe thead th {\n",
              "        text-align: left;\n",
              "    }\n",
              "\n",
              "    .dataframe tbody tr th {\n",
              "        vertical-align: top;\n",
              "    }\n",
              "</style>\n",
              "<table border=\"1\" class=\"dataframe\">\n",
              "  <thead>\n",
              "    <tr style=\"text-align: right;\">\n",
              "      <th></th>\n",
              "      <th>city</th>\n",
              "      <th>education</th>\n",
              "      <th>age</th>\n",
              "      <th>population_proper</th>\n",
              "      <th>location</th>\n",
              "    </tr>\n",
              "  </thead>\n",
              "  <tbody>\n",
              "    <tr>\n",
              "      <th>0</th>\n",
              "      <td>Brooklyn, NY</td>\n",
              "      <td>college</td>\n",
              "      <td>31</td>\n",
              "      <td>2629150.0</td>\n",
              "      <td>urban</td>\n",
              "    </tr>\n",
              "    <tr>\n",
              "      <th>1</th>\n",
              "      <td>Brooklyn, NY</td>\n",
              "      <td>graduate degree</td>\n",
              "      <td>31</td>\n",
              "      <td>2629150.0</td>\n",
              "      <td>urban</td>\n",
              "    </tr>\n",
              "    <tr>\n",
              "      <th>2</th>\n",
              "      <td>Brooklyn, NY</td>\n",
              "      <td>graduate degree</td>\n",
              "      <td>32</td>\n",
              "      <td>2629150.0</td>\n",
              "      <td>urban</td>\n",
              "    </tr>\n",
              "    <tr>\n",
              "      <th>3</th>\n",
              "      <td>Brooklyn, NY</td>\n",
              "      <td>college</td>\n",
              "      <td>37</td>\n",
              "      <td>2629150.0</td>\n",
              "      <td>urban</td>\n",
              "    </tr>\n",
              "    <tr>\n",
              "      <th>4</th>\n",
              "      <td>Brooklyn, NY</td>\n",
              "      <td>college</td>\n",
              "      <td>21</td>\n",
              "      <td>2629150.0</td>\n",
              "      <td>urban</td>\n",
              "    </tr>\n",
              "    <tr>\n",
              "      <th>5</th>\n",
              "      <td>Austin, TX</td>\n",
              "      <td>college</td>\n",
              "      <td>25</td>\n",
              "      <td>947890.0</td>\n",
              "      <td>urban</td>\n",
              "    </tr>\n",
              "    <tr>\n",
              "      <th>6</th>\n",
              "      <td>Austin, TX</td>\n",
              "      <td>graduate degree</td>\n",
              "      <td>22</td>\n",
              "      <td>947890.0</td>\n",
              "      <td>urban</td>\n",
              "    </tr>\n",
              "    <tr>\n",
              "      <th>7</th>\n",
              "      <td>Oakland, CA</td>\n",
              "      <td>graduate degree</td>\n",
              "      <td>29</td>\n",
              "      <td>420005.0</td>\n",
              "      <td>urban</td>\n",
              "    </tr>\n",
              "    <tr>\n",
              "      <th>8</th>\n",
              "      <td>Pittsburgh, PA</td>\n",
              "      <td>college</td>\n",
              "      <td>29</td>\n",
              "      <td>303625.0</td>\n",
              "      <td>urban</td>\n",
              "    </tr>\n",
              "    <tr>\n",
              "      <th>9</th>\n",
              "      <td>Pittsburgh, PA</td>\n",
              "      <td>college</td>\n",
              "      <td>27</td>\n",
              "      <td>303625.0</td>\n",
              "      <td>urban</td>\n",
              "    </tr>\n",
              "    <tr>\n",
              "      <th>10</th>\n",
              "      <td>Pittsburgh, PA</td>\n",
              "      <td>graduate degree</td>\n",
              "      <td>28</td>\n",
              "      <td>303625.0</td>\n",
              "      <td>urban</td>\n",
              "    </tr>\n",
              "    <tr>\n",
              "      <th>11</th>\n",
              "      <td>Pittsburgh, PA</td>\n",
              "      <td>graduate degree</td>\n",
              "      <td>36</td>\n",
              "      <td>303625.0</td>\n",
              "      <td>urban</td>\n",
              "    </tr>\n",
              "    <tr>\n",
              "      <th>12</th>\n",
              "      <td>Ames, IA</td>\n",
              "      <td>college</td>\n",
              "      <td>31</td>\n",
              "      <td>66191.0</td>\n",
              "      <td>rural</td>\n",
              "    </tr>\n",
              "    <tr>\n",
              "      <th>13</th>\n",
              "      <td>Albany, NY</td>\n",
              "      <td>graduate degree</td>\n",
              "      <td>31</td>\n",
              "      <td>98111.0</td>\n",
              "      <td>rural</td>\n",
              "    </tr>\n",
              "    <tr>\n",
              "      <th>14</th>\n",
              "      <td>Lancaster, PA</td>\n",
              "      <td>college</td>\n",
              "      <td>31</td>\n",
              "      <td>59218.0</td>\n",
              "      <td>rural</td>\n",
              "    </tr>\n",
              "    <tr>\n",
              "      <th>15</th>\n",
              "      <td>Reno, NV</td>\n",
              "      <td>high school</td>\n",
              "      <td>31</td>\n",
              "      <td>245255.0</td>\n",
              "      <td>urban</td>\n",
              "    </tr>\n",
              "    <tr>\n",
              "      <th>16</th>\n",
              "      <td>Reno, NV</td>\n",
              "      <td>college</td>\n",
              "      <td>22</td>\n",
              "      <td>245255.0</td>\n",
              "      <td>urban</td>\n",
              "    </tr>\n",
              "    <tr>\n",
              "      <th>17</th>\n",
              "      <td>Houston, TX</td>\n",
              "      <td>high school</td>\n",
              "      <td>31</td>\n",
              "      <td>2303482.0</td>\n",
              "      <td>urban</td>\n",
              "    </tr>\n",
              "    <tr>\n",
              "      <th>18</th>\n",
              "      <td>Houston, TX</td>\n",
              "      <td>high school</td>\n",
              "      <td>21</td>\n",
              "      <td>2303482.0</td>\n",
              "      <td>urban</td>\n",
              "    </tr>\n",
              "    <tr>\n",
              "      <th>19</th>\n",
              "      <td>Houston, TX</td>\n",
              "      <td>graduate degree</td>\n",
              "      <td>26</td>\n",
              "      <td>2303482.0</td>\n",
              "      <td>urban</td>\n",
              "    </tr>\n",
              "  </tbody>\n",
              "</table>\n",
              "</div>"
            ],
            "text/plain": [
              "              city        education  age  population_proper location\n",
              "0     Brooklyn, NY          college   31          2629150.0    urban\n",
              "1     Brooklyn, NY  graduate degree   31          2629150.0    urban\n",
              "2     Brooklyn, NY  graduate degree   32          2629150.0    urban\n",
              "3     Brooklyn, NY          college   37          2629150.0    urban\n",
              "4     Brooklyn, NY          college   21          2629150.0    urban\n",
              "5       Austin, TX          college   25           947890.0    urban\n",
              "6       Austin, TX  graduate degree   22           947890.0    urban\n",
              "7      Oakland, CA  graduate degree   29           420005.0    urban\n",
              "8   Pittsburgh, PA          college   29           303625.0    urban\n",
              "9   Pittsburgh, PA          college   27           303625.0    urban\n",
              "10  Pittsburgh, PA  graduate degree   28           303625.0    urban\n",
              "11  Pittsburgh, PA  graduate degree   36           303625.0    urban\n",
              "12        Ames, IA          college   31            66191.0    rural\n",
              "13      Albany, NY  graduate degree   31            98111.0    rural\n",
              "14   Lancaster, PA          college   31            59218.0    rural\n",
              "15        Reno, NV      high school   31           245255.0    urban\n",
              "16        Reno, NV          college   22           245255.0    urban\n",
              "17     Houston, TX      high school   31          2303482.0    urban\n",
              "18     Houston, TX      high school   21          2303482.0    urban\n",
              "19     Houston, TX  graduate degree   26          2303482.0    urban"
            ]
          },
          "metadata": {
            "tags": []
          },
          "execution_count": 98
        }
      ]
    },
    {
      "cell_type": "markdown",
      "metadata": {
        "id": "w_mKt59-_pql"
      },
      "source": [
        "# Explore the Data"
      ]
    },
    {
      "cell_type": "code",
      "metadata": {
        "id": "1Oxjm-LF_pql",
        "outputId": "7d13cec1-eace-4d38-ebe6-a8e3803b01c0"
      },
      "source": [
        "# Plot a histogram that shows the distribution of ages in the dataset:\n",
        "\n",
        "age = new_df[\"age\"]\n",
        "sns.distplot(age)\n",
        "plt.show()"
      ],
      "execution_count": null,
      "outputs": [
        {
          "output_type": "display_data",
          "data": {
            "image/png": "[encoded data removed]",
            "text/plain": [
              "<matplotlib.figure.Figure at 0x1a1b073390>"
            ]
          },
          "metadata": {
            "tags": []
          }
        }
      ]
    },
    {
      "cell_type": "code",
      "metadata": {
        "id": "kiEReSZy_pqm",
        "outputId": "035ca982-32a2-430d-de33-4cfc30616982"
      },
      "source": [
        "# Find the mean age of urban and rural users:\n",
        "\n",
        "location_mean_age = new_df.groupby('location').age.mean() # turns it into a series\n",
        "location_mean_age.head()"
      ],
      "execution_count": null,
      "outputs": [
        {
          "output_type": "execute_result",
          "data": {
            "text/plain": [
              "location\n",
              "rural    31.142857\n",
              "urban    29.609195\n",
              "Name: age, dtype: float64"
            ]
          },
          "metadata": {
            "tags": []
          },
          "execution_count": 100
        }
      ]
    },
    {
      "cell_type": "code",
      "metadata": {
        "id": "4kYhw-Nh_pqm",
        "outputId": "915b2164-acd8-4c15-e700-8dd8f35eb2af"
      },
      "source": [
        "# Graph the age difference between rural and urban using a barplot:\n",
        "\n",
        "sns.barplot(\n",
        "\tdata=new_df,\n",
        "\tx= \"location\",\n",
        "\ty= \"age\"\n",
        ")\n",
        "\n",
        "plt.show()"
      ],
      "execution_count": null,
      "outputs": [
        {
          "output_type": "display_data",
          "data": {
            "image/png": "[encoded data removed]",
            "text/plain": [
              "<matplotlib.figure.Figure at 0x1a1b05a470>"
            ]
          },
          "metadata": {
            "tags": []
          }
        }
      ]
    },
    {
      "cell_type": "code",
      "metadata": {
        "id": "VHdQEAUT_pqn",
        "outputId": "6b2f4f7a-8364-4f41-d906-e10c22d0b1e0"
      },
      "source": [
        "# Plot a violinplot, which shows the distribution of age in different locations:\n",
        "\n",
        "sns.violinplot(data=new_df, x=\"location\", y=\"age\")\n",
        "plt.show()"
      ],
      "execution_count": null,
      "outputs": [
        {
          "output_type": "display_data",
          "data": {
            "image/png": "[encoded data removed]",
            "text/plain": [
              "<matplotlib.figure.Figure at 0x1a1b054f28>"
            ]
          },
          "metadata": {
            "tags": []
          }
        }
      ]
    },
    {
      "cell_type": "markdown",
      "metadata": {
        "id": "tjW6dGf6_pqn"
      },
      "source": [
        "# Model the Data"
      ]
    },
    {
      "cell_type": "code",
      "metadata": {
        "id": "c15HYebO_pqo",
        "outputId": "f55d9e5c-5c22-477d-f421-ba9d25dc3b12"
      },
      "source": [
        "# Graph the population to age as a scatterplot: \n",
        "\n",
        "x = new_df['population_proper']\n",
        "y = new_df['age']\n",
        "\n",
        "plt.scatter(x, y, alpha=0.5)\n",
        "\n",
        "plt.show()"
      ],
      "execution_count": null,
      "outputs": [
        {
          "output_type": "display_data",
          "data": {
            "image/png": "[encoded data removed]",
            "text/plain": [
              "<matplotlib.figure.Figure at 0x10fdfaef0>"
            ]
          },
          "metadata": {
            "tags": []
          }
        }
      ]
    },
    {
      "cell_type": "code",
      "metadata": {
        "id": "EvLETU2__pqo",
        "outputId": "d8af061e-4205-41ef-f33a-fdb1e79ee274"
      },
      "source": [
        "# Use Seaborn to visualize a linear regression: \n",
        "\n",
        "sns.regplot(data=new_df, x=\"population_proper\", y=\"age\")\n",
        "\n",
        "plt.show()"
      ],
      "execution_count": null,
      "outputs": [
        {
          "output_type": "display_data",
          "data": {
            "image/png": "[encoded data removed]",
            "text/plain": [
              "<matplotlib.figure.Figure at 0x110774b38>"
            ]
          },
          "metadata": {
            "tags": []
          }
        }
      ]
    },
    {
      "cell_type": "markdown",
      "metadata": {
        "id": "HucsM17n_pqo"
      },
      "source": [
        "# Communication:"
      ]
    },
    {
      "cell_type": "code",
      "metadata": {
        "scrolled": true,
        "id": "fPaT7sJr_pqp",
        "outputId": "73d335dc-5eee-4676-bf08-58c471554a5e"
      },
      "source": [
        "# Now we need to make our visualizations snazzy! \n",
        "\n",
        "# Linear regression plot:\n",
        "sns.regplot(data=new_df, x=\"population_proper\", y=\"age\")\n",
        "\n",
        "# Change the axes, so they're eaiser to undersatnd:\n",
        "ax = plt.subplot(1, 1, 1)\n",
        "ax.set_xticks([100000, 1000000, 2000000, 4000000, 8000000])\n",
        "ax.set_xticklabels(['100k', '1m', '2m','4m', '8m'])\n",
        "\n",
        "\n",
        "# Change the figure style and palette:\n",
        "sns.set_style(\"white\")\n",
        "sns.set_palette(\"pastel\")\n",
        "sns.despine()\n",
        "\n",
        "\n",
        "# Title the axes and plot: \n",
        "ax.set_xlabel(\"City Population\") \n",
        "ax.set_ylabel(\"User Age\") \n",
        "plt.title(\"Age against Population\")\n",
        "\n",
        "\n",
        "plt.show()"
      ],
      "execution_count": null,
      "outputs": [
        {
          "output_type": "display_data",
          "data": {
            "image/png": "[encoded data removed]",
            "text/plain": [
              "<matplotlib.figure.Figure at 0x1108c1898>"
            ]
          },
          "metadata": {
            "tags": []
          }
        }
      ]
    }
  ]
}